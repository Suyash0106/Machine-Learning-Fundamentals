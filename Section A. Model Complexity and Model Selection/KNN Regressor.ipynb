{
 "cells": [
  {
   "cell_type": "markdown",
   "metadata": {},
   "source": [
    "\n",
    "## Section A. Model Complexity and Model Selection\n",
    "\n",
    "### Question 1 [KNN Regressor, 20 Marks]\n",
    "\n",
    "1.  Implement the KNN regressor function:knn(train.data, train.label, test.data, K=3)\n",
    "   which takes the training data and their labels (continuous values), the test set,\n",
    "   and the size of the neighborhood (K). It should return the regressed\n",
    "   values for the test data points. When choosing the neighbors, you can use\n",
    "   the Euclidean distance function to measure the distance between a pair of\n",
    "   data points."
   ]
  },
  {
   "cell_type": "code",
   "execution_count": 2,
   "metadata": {},
   "outputs": [
    {
     "name": "stderr",
     "output_type": "stream",
     "text": [
      "Warning message:\n",
      "\"package 'reshape' was built under R version 3.5.3\"Warning message:\n",
      "\"package 'ggplot2' was built under R version 3.5.3\""
     ]
    }
   ],
   "source": [
    "# Load the libraries for wrangling and plotting data\n",
    "library(reshape)\n",
    "library(ggplot2)"
   ]
  },
  {
   "cell_type": "code",
   "execution_count": 3,
   "metadata": {},
   "outputs": [],
   "source": [
    "# Load the train and the test set\n",
    "train <- read.csv(\"Task1A_train.csv\")\n",
    "test <- read.csv(\"Task1A_test.csv\")\n",
    "\n",
    "# Split the data into input values and corresponding labels\n",
    "train.data <- train['x1']\n",
    "train.label <- train[, 2]\n",
    "\n",
    "test.data <- test['x1']\n",
    "test.label <- test[, 2]"
   ]
  },
  {
   "cell_type": "code",
   "execution_count": 4,
   "metadata": {},
   "outputs": [],
   "source": [
    "# KNN function to return the k nearest elements using euclidean distance\n",
    "knn <- function(train.data, train.label, test.data, K=3, distance = 'euclidean'){\n",
    "    ## count number of train samples\n",
    "    train.len <- nrow(train.data)\n",
    "    \n",
    "    ## count number of test samples\n",
    "    test.len <- nrow(test.data)\n",
    "    \n",
    "    ## calculate distances between samples\n",
    "    dist <- as.matrix(dist(rbind(test.data, train.data), method= distance))[1:test.len, (test.len+1):(test.len+train.len)]\n",
    "    \n",
    "    # Initialize the predicted value vector\n",
    "    test.label <- 0.0\n",
    "    \n",
    "    ## for each test sample...\n",
    "    for (i in 1:test.len){\n",
    "        \n",
    "        ### ...find its K nearest neighbours from training sampels...\n",
    "        nn <- as.data.frame(sort(dist[i,], index.return = TRUE))[1:K,2]  # returns indices of 4 nearest neighbours\n",
    "                \n",
    "        ###... and calculate the predicted labels according to the average value      \n",
    "        avg <- mean(train.label[nn])\n",
    "        \n",
    "        # Store the average value as label\n",
    "        test.label[i]<- round(avg, 2)\n",
    "\n",
    "    }\n",
    "    \n",
    "    ## return the class labels as output\n",
    "    return (test.label)\n",
    "}"
   ]
  },
  {
   "cell_type": "code",
   "execution_count": 5,
   "metadata": {},
   "outputs": [
    {
     "data": {
      "text/html": [
       "<ol class=list-inline>\n",
       "\t<li>0.77</li>\n",
       "\t<li>0.77</li>\n",
       "\t<li>0.78</li>\n",
       "\t<li>0.79</li>\n",
       "\t<li>0.85</li>\n",
       "\t<li>0.87</li>\n",
       "\t<li>0.92</li>\n",
       "\t<li>1</li>\n",
       "\t<li>1.08</li>\n",
       "\t<li>1.19</li>\n",
       "\t<li>1.28</li>\n",
       "\t<li>1.43</li>\n",
       "\t<li>1.52</li>\n",
       "\t<li>1.62</li>\n",
       "\t<li>1.69</li>\n",
       "\t<li>1.81</li>\n",
       "\t<li>1.97</li>\n",
       "\t<li>2.18</li>\n",
       "\t<li>2.5</li>\n",
       "\t<li>2.84</li>\n",
       "\t<li>3.2</li>\n",
       "\t<li>3.6</li>\n",
       "\t<li>4.12</li>\n",
       "\t<li>4.46</li>\n",
       "\t<li>4.95</li>\n",
       "\t<li>5.51</li>\n",
       "\t<li>5.8</li>\n",
       "\t<li>6.28</li>\n",
       "\t<li>6.62</li>\n",
       "\t<li>6.93</li>\n",
       "\t<li>7.36</li>\n",
       "\t<li>7.7</li>\n",
       "\t<li>8.35</li>\n",
       "\t<li>8.77</li>\n",
       "\t<li>9.81</li>\n",
       "\t<li>10.78</li>\n",
       "\t<li>11.9</li>\n",
       "\t<li>13.23</li>\n",
       "\t<li>14.31</li>\n",
       "\t<li>15.28</li>\n",
       "\t<li>15.28</li>\n",
       "\t<li>15.28</li>\n",
       "</ol>\n"
      ],
      "text/latex": [
       "\\begin{enumerate*}\n",
       "\\item 0.77\n",
       "\\item 0.77\n",
       "\\item 0.78\n",
       "\\item 0.79\n",
       "\\item 0.85\n",
       "\\item 0.87\n",
       "\\item 0.92\n",
       "\\item 1\n",
       "\\item 1.08\n",
       "\\item 1.19\n",
       "\\item 1.28\n",
       "\\item 1.43\n",
       "\\item 1.52\n",
       "\\item 1.62\n",
       "\\item 1.69\n",
       "\\item 1.81\n",
       "\\item 1.97\n",
       "\\item 2.18\n",
       "\\item 2.5\n",
       "\\item 2.84\n",
       "\\item 3.2\n",
       "\\item 3.6\n",
       "\\item 4.12\n",
       "\\item 4.46\n",
       "\\item 4.95\n",
       "\\item 5.51\n",
       "\\item 5.8\n",
       "\\item 6.28\n",
       "\\item 6.62\n",
       "\\item 6.93\n",
       "\\item 7.36\n",
       "\\item 7.7\n",
       "\\item 8.35\n",
       "\\item 8.77\n",
       "\\item 9.81\n",
       "\\item 10.78\n",
       "\\item 11.9\n",
       "\\item 13.23\n",
       "\\item 14.31\n",
       "\\item 15.28\n",
       "\\item 15.28\n",
       "\\item 15.28\n",
       "\\end{enumerate*}\n"
      ],
      "text/markdown": [
       "1. 0.77\n",
       "2. 0.77\n",
       "3. 0.78\n",
       "4. 0.79\n",
       "5. 0.85\n",
       "6. 0.87\n",
       "7. 0.92\n",
       "8. 1\n",
       "9. 1.08\n",
       "10. 1.19\n",
       "11. 1.28\n",
       "12. 1.43\n",
       "13. 1.52\n",
       "14. 1.62\n",
       "15. 1.69\n",
       "16. 1.81\n",
       "17. 1.97\n",
       "18. 2.18\n",
       "19. 2.5\n",
       "20. 2.84\n",
       "21. 3.2\n",
       "22. 3.6\n",
       "23. 4.12\n",
       "24. 4.46\n",
       "25. 4.95\n",
       "26. 5.51\n",
       "27. 5.8\n",
       "28. 6.28\n",
       "29. 6.62\n",
       "30. 6.93\n",
       "31. 7.36\n",
       "32. 7.7\n",
       "33. 8.35\n",
       "34. 8.77\n",
       "35. 9.81\n",
       "36. 10.78\n",
       "37. 11.9\n",
       "38. 13.23\n",
       "39. 14.31\n",
       "40. 15.28\n",
       "41. 15.28\n",
       "42. 15.28\n",
       "\n",
       "\n"
      ],
      "text/plain": [
       " [1]  0.77  0.77  0.78  0.79  0.85  0.87  0.92  1.00  1.08  1.19  1.28  1.43\n",
       "[13]  1.52  1.62  1.69  1.81  1.97  2.18  2.50  2.84  3.20  3.60  4.12  4.46\n",
       "[25]  4.95  5.51  5.80  6.28  6.62  6.93  7.36  7.70  8.35  8.77  9.81 10.78\n",
       "[37] 11.90 13.23 14.31 15.28 15.28 15.28"
      ]
     },
     "metadata": {},
     "output_type": "display_data"
    }
   ],
   "source": [
    "# Test the regressor for k = 4\n",
    "label = knn(train.data, train.label, test.data, K=4)\n",
    "label"
   ]
  },
  {
   "cell_type": "markdown",
   "metadata": {},
   "source": [
    "2. Plot the training and the testing errors versus 1/K for K=1,..,20 in one plot,\n",
    "   using the Task1A_train.csv and Task1A_test.csv datasets provided for\n",
    "   this assignment. Save the plot in your Jupyter Notebook file for\n",
    "   Question 1."
   ]
  },
  {
   "cell_type": "code",
   "execution_count": 6,
   "metadata": {},
   "outputs": [
    {
     "data": {
      "text/html": [
       "<table>\n",
       "<thead><tr><th scope=col>K</th><th scope=col>Train RMSE</th><th scope=col>Test RMSE</th></tr></thead>\n",
       "<tbody>\n",
       "\t<tr><td> 1       </td><td>0.0000000</td><td>1.2998938</td></tr>\n",
       "\t<tr><td> 2       </td><td>0.3499388</td><td>1.4578629</td></tr>\n",
       "\t<tr><td> 3       </td><td>0.3101996</td><td>1.3019363</td></tr>\n",
       "\t<tr><td> 4       </td><td>0.3865969</td><td>1.3616945</td></tr>\n",
       "\t<tr><td> 5       </td><td>0.3982163</td><td>1.1743894</td></tr>\n",
       "\t<tr><td> 6       </td><td>0.5323376</td><td>1.2132826</td></tr>\n",
       "\t<tr><td> 7       </td><td>0.6633842</td><td>1.0389315</td></tr>\n",
       "\t<tr><td> 8       </td><td>0.7938364</td><td>1.0854437</td></tr>\n",
       "\t<tr><td> 9       </td><td>0.9474527</td><td>0.9769486</td></tr>\n",
       "\t<tr><td>10       </td><td>1.0779423</td><td>1.0233372</td></tr>\n",
       "\t<tr><td>11       </td><td>1.2095021</td><td>0.9531851</td></tr>\n",
       "\t<tr><td>12       </td><td>1.3169870</td><td>1.0525208</td></tr>\n",
       "\t<tr><td>13       </td><td>1.4503973</td><td>1.0239768</td></tr>\n",
       "\t<tr><td>14       </td><td>1.5494915</td><td>1.1302865</td></tr>\n",
       "\t<tr><td>15       </td><td>1.6598358</td><td>1.1182395</td></tr>\n",
       "\t<tr><td>16       </td><td>1.7419386</td><td>1.2385523</td></tr>\n",
       "\t<tr><td>17       </td><td>1.8658523</td><td>1.2520783</td></tr>\n",
       "\t<tr><td>18       </td><td>1.9441340</td><td>1.3575301</td></tr>\n",
       "\t<tr><td>19       </td><td>2.0565922</td><td>1.3829437</td></tr>\n",
       "\t<tr><td>20       </td><td>2.1466913</td><td>1.5084855</td></tr>\n",
       "</tbody>\n",
       "</table>\n"
      ],
      "text/latex": [
       "\\begin{tabular}{r|lll}\n",
       " K & Train RMSE & Test RMSE\\\\\n",
       "\\hline\n",
       "\t  1        & 0.0000000 & 1.2998938\\\\\n",
       "\t  2        & 0.3499388 & 1.4578629\\\\\n",
       "\t  3        & 0.3101996 & 1.3019363\\\\\n",
       "\t  4        & 0.3865969 & 1.3616945\\\\\n",
       "\t  5        & 0.3982163 & 1.1743894\\\\\n",
       "\t  6        & 0.5323376 & 1.2132826\\\\\n",
       "\t  7        & 0.6633842 & 1.0389315\\\\\n",
       "\t  8        & 0.7938364 & 1.0854437\\\\\n",
       "\t  9        & 0.9474527 & 0.9769486\\\\\n",
       "\t 10        & 1.0779423 & 1.0233372\\\\\n",
       "\t 11        & 1.2095021 & 0.9531851\\\\\n",
       "\t 12        & 1.3169870 & 1.0525208\\\\\n",
       "\t 13        & 1.4503973 & 1.0239768\\\\\n",
       "\t 14        & 1.5494915 & 1.1302865\\\\\n",
       "\t 15        & 1.6598358 & 1.1182395\\\\\n",
       "\t 16        & 1.7419386 & 1.2385523\\\\\n",
       "\t 17        & 1.8658523 & 1.2520783\\\\\n",
       "\t 18        & 1.9441340 & 1.3575301\\\\\n",
       "\t 19        & 2.0565922 & 1.3829437\\\\\n",
       "\t 20        & 2.1466913 & 1.5084855\\\\\n",
       "\\end{tabular}\n"
      ],
      "text/markdown": [
       "\n",
       "K | Train RMSE | Test RMSE | \n",
       "|---|---|---|---|---|---|---|---|---|---|---|---|---|---|---|---|---|---|---|---|\n",
       "|  1        | 0.0000000 | 1.2998938 | \n",
       "|  2        | 0.3499388 | 1.4578629 | \n",
       "|  3        | 0.3101996 | 1.3019363 | \n",
       "|  4        | 0.3865969 | 1.3616945 | \n",
       "|  5        | 0.3982163 | 1.1743894 | \n",
       "|  6        | 0.5323376 | 1.2132826 | \n",
       "|  7        | 0.6633842 | 1.0389315 | \n",
       "|  8        | 0.7938364 | 1.0854437 | \n",
       "|  9        | 0.9474527 | 0.9769486 | \n",
       "| 10        | 1.0779423 | 1.0233372 | \n",
       "| 11        | 1.2095021 | 0.9531851 | \n",
       "| 12        | 1.3169870 | 1.0525208 | \n",
       "| 13        | 1.4503973 | 1.0239768 | \n",
       "| 14        | 1.5494915 | 1.1302865 | \n",
       "| 15        | 1.6598358 | 1.1182395 | \n",
       "| 16        | 1.7419386 | 1.2385523 | \n",
       "| 17        | 1.8658523 | 1.2520783 | \n",
       "| 18        | 1.9441340 | 1.3575301 | \n",
       "| 19        | 2.0565922 | 1.3829437 | \n",
       "| 20        | 2.1466913 | 1.5084855 | \n",
       "\n",
       "\n"
      ],
      "text/plain": [
       "   K  Train RMSE Test RMSE\n",
       "1   1 0.0000000  1.2998938\n",
       "2   2 0.3499388  1.4578629\n",
       "3   3 0.3101996  1.3019363\n",
       "4   4 0.3865969  1.3616945\n",
       "5   5 0.3982163  1.1743894\n",
       "6   6 0.5323376  1.2132826\n",
       "7   7 0.6633842  1.0389315\n",
       "8   8 0.7938364  1.0854437\n",
       "9   9 0.9474527  0.9769486\n",
       "10 10 1.0779423  1.0233372\n",
       "11 11 1.2095021  0.9531851\n",
       "12 12 1.3169870  1.0525208\n",
       "13 13 1.4503973  1.0239768\n",
       "14 14 1.5494915  1.1302865\n",
       "15 15 1.6598358  1.1182395\n",
       "16 16 1.7419386  1.2385523\n",
       "17 17 1.8658523  1.2520783\n",
       "18 18 1.9441340  1.3575301\n",
       "19 19 2.0565922  1.3829437\n",
       "20 20 2.1466913  1.5084855"
      ]
     },
     "metadata": {},
     "output_type": "display_data"
    }
   ],
   "source": [
    "# Dataframe to store the Root mean square errors\n",
    "rmse <- data.frame('K'=1:20)\n",
    "\n",
    "# Iterate for k = 1 to 20\n",
    "for (k in 1: 20){\n",
    "    \n",
    "    # Predict labels on the train set\n",
    "    predicted.train <- knn(train.data, train.label, train.data, K=k)\n",
    "    \n",
    "    # Predict labels on the test set\n",
    "    predicted.test <- knn(train.data, train.label, test.data, K=k)\n",
    "    \n",
    "    # Calculate RMSE on the train set\n",
    "    rmse[k,'Train RMSE'] <- sqrt(mean((predicted.train - train.label)^2))\n",
    "    \n",
    "    # Calculate RMSE on the test set\n",
    "    rmse[k,'Test RMSE'] <- sqrt(mean((predicted.test - test.label)^2))\n",
    "}\n",
    "\n",
    "# Check the error values\n",
    "rmse"
   ]
  },
  {
   "cell_type": "code",
   "execution_count": 7,
   "metadata": {},
   "outputs": [
    {
     "data": {},
     "metadata": {},
     "output_type": "display_data"
    },
    {
     "data": {
      "image/png": "[encoded data removed]",
      "text/plain": [
       "plot without title"
      ]
     },
     "metadata": {},
     "output_type": "display_data"
    }
   ],
   "source": [
    "# reshape for visualization\n",
    "rmse.m <- melt(rmse, id='K')\n",
    "names(rmse.m) <- c('K', 'Type', 'Error')\n",
    "\n",
    "# plot RMSE of predictions vs target values for train and test data sets\n",
    "ggplot(data=rmse.m, aes(x=1/K, y=Error, color=Type)) + geom_line() +\n",
    "       scale_color_discrete(guide = guide_legend(title = NULL)) +\n",
    "       ggtitle(\"Training error vs Testing\") + theme_grey()"
   ]
  },
  {
   "cell_type": "markdown",
   "metadata": {},
   "source": [
    "3. Report (in your Jupyter Notebook file) the optimum value for K in terms of the testing error. Discuss the values of K corresponding to underfitting and overfitting based on your plot in the previous part (Part II)."
   ]
  },
  {
   "cell_type": "markdown",
   "metadata": {},
   "source": [
    "**Answer:** \n",
    "* From the above graph, the optimum value of \"K\" in terms of testing error is **9** (i.e. for 1/K ~ 0.11). \n",
    "* It can be observed from the graph that as we increase the value of K, the training error increases. \n",
    "* The error on the train data is lowest when K=0, however, the error on the test data is highest for same value of K and as the value of K increases train error increases whereas test error decreases. \n",
    "* Thus, it can be interpreted that lower values of K (i.e., K<9) represents over-fitting.\n",
    "* The optimum value of K is the point of intersection of train and test error which is K=9. As the value of K increases, the number of nearest nodes (neighbours) increases which results in a very simple model. Hence, increase in the value of K results in under-fitting."
   ]
  },
  {
   "cell_type": "code",
   "execution_count": null,
   "metadata": {},
   "outputs": [],
   "source": []
  }
 ],
 "metadata": {
  "kernelspec": {
   "display_name": "R",
   "language": "R",
   "name": "ir"
  },
  "language_info": {
   "codemirror_mode": "r",
   "file_extension": ".r",
   "mimetype": "text/x-r-source",
   "name": "R",
   "pygments_lexer": "r",
   "version": "3.5.1"
  }
 },
 "nbformat": 4,
 "nbformat_minor": 2
}
