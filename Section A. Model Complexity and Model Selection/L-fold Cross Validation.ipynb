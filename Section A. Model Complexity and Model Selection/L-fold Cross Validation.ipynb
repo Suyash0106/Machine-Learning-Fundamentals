{
 "cells": [
  {
   "cell_type": "markdown",
   "metadata": {},
   "source": [
    "## Section A. Model Complexity and Model Selection"
   ]
  },
  {
   "cell_type": "markdown",
   "metadata": {},
   "source": [
    "### Question 2 [L-fold Cross Validation, 20 Marks]\n",
    "\n",
    "1. Implement a L-Fold Cross Validation (CV) function for your KNN\n",
    "    regressor: <br />\n",
    "\n",
    "    __cv(train.data, train.label, numFold=10, k=3)__\n",
    "    \n",
    "    <br />\n",
    "    which takes the training data and their labels (continuous values), the\n",
    "    number of folds, and returns errors for different folds of the training data.\n",
    "    \n",
    "<br>\n",
    "\n",
    "**Note:** The function cv(train.data, train.label, numFold=10, k=3) implemented in this code takes an additional parameter __k__ which represents the number of nearest neighbours. The default value of k is 3 and this function is "
   ]
  },
  {
   "cell_type": "code",
   "execution_count": 22,
   "metadata": {},
   "outputs": [],
   "source": [
    "# Load the libraries for wrangling and plotting data\n",
    "library(reshape)\n",
    "library(ggplot2)"
   ]
  },
  {
   "cell_type": "code",
   "execution_count": 23,
   "metadata": {},
   "outputs": [],
   "source": [
    "# Load the entire dataset as train data\n",
    "train <- read.csv(\"Task1A.csv\")\n",
    "\n",
    "# Split the data into input values and corresponding labels\n",
    "train.data_cv <- train[\"x1\"]\n",
    "train.label_cv <- train[, 2]"
   ]
  },
  {
   "cell_type": "code",
   "execution_count": 24,
   "metadata": {},
   "outputs": [],
   "source": [
    "# KNN function to return the k nearest elements using euclidean distance\n",
    "knn <- function(train.data, train.label, test.data, K=3, distance = 'euclidean'){\n",
    "    ## count number of train samples\n",
    "    train.len <- nrow(train.data)\n",
    "    \n",
    "    ## count number of test samples\n",
    "    test.len <- nrow(test.data)\n",
    "    \n",
    "    ## calculate distances between samples\n",
    "    dist <- as.matrix(dist(rbind(test.data, train.data), method= distance))[1:test.len, (test.len+1):(test.len+train.len)]\n",
    "    \n",
    "    # Initialize the predicted value vector\n",
    "    test.label <- 0.0\n",
    "    \n",
    "    ## for each test sample...\n",
    "    for (i in 1:test.len){\n",
    "        ### ...find its K nearest neighbours from training sampels...\n",
    "        nn <- as.data.frame(sort(dist[i,], index.return = TRUE))[1:K,2]  # returns indices of 4 nearest neighbours\n",
    "                \n",
    "        # Calculate the predicted labels according to the average value          \n",
    "        avg <- mean(train.label[nn])\n",
    "        \n",
    "        # Store the average value as label\n",
    "        test.label[i]<- round(avg, 2)\n",
    "\n",
    "    }\n",
    "    \n",
    "    ## return the class labels as output\n",
    "    return (test.label)\n",
    "}"
   ]
  },
  {
   "cell_type": "code",
   "execution_count": 25,
   "metadata": {},
   "outputs": [],
   "source": [
    "# Cross-validation function\n",
    "cv <- function(train.data, train.label, numFold=10, k=3){\n",
    "    \n",
    "    # dataframe to register the error in each fold\n",
    "    error_Lfold <- data.frame('Fold'=1:numFold, 'Error'=rep(0,numFold))\n",
    "    \n",
    "    # Create folds of size numFold\n",
    "    folds <- sample(cut(seq(1, nrow(train.data)), breaks = numFold, labels = FALSE))\n",
    "    \n",
    "    # Perform 10 fold cross validation\n",
    "    for(i in 1:numFold){\n",
    "        \n",
    "        # Segement the data by fold \n",
    "        testIndices <- which(folds == i,arr.ind=TRUE)\n",
    "        \n",
    "        # Train data is divided into train set and test set\n",
    "        \n",
    "        testdata <- data.frame('x'= train.data[testIndices,])\n",
    "        testLabel <- train.label[testIndices]\n",
    "        \n",
    "        trainData <- data.frame('x'= train.data[-testIndices,])\n",
    "        trainLabel <- train.label[-testIndices]  \n",
    "        \n",
    "        # Obtain the label using KNN\n",
    "        label = knn(trainData, trainLabel, testdata, K=k)\n",
    "        \n",
    "        # Get the error for the fold using RMSE \n",
    "        error_Lfold[i,'Error'] <- sqrt(mean((label - testLabel)^2))\n",
    "    }\n",
    "    \n",
    "    ## return the error of each fold as output\n",
    "    return (error_Lfold)\n",
    "}"
   ]
  },
  {
   "cell_type": "code",
   "execution_count": 26,
   "metadata": {},
   "outputs": [
    {
     "data": {
      "text/html": [
       "<table>\n",
       "<thead><tr><th scope=col>Fold</th><th scope=col>Error</th></tr></thead>\n",
       "<tbody>\n",
       "\t<tr><td> 1       </td><td>1.5276707</td></tr>\n",
       "\t<tr><td> 2       </td><td>1.0053482</td></tr>\n",
       "\t<tr><td> 3       </td><td>1.6994705</td></tr>\n",
       "\t<tr><td> 4       </td><td>0.6818521</td></tr>\n",
       "\t<tr><td> 5       </td><td>0.9367964</td></tr>\n",
       "\t<tr><td> 6       </td><td>0.9798150</td></tr>\n",
       "\t<tr><td> 7       </td><td>1.3138620</td></tr>\n",
       "\t<tr><td> 8       </td><td>0.7112753</td></tr>\n",
       "\t<tr><td> 9       </td><td>0.4824806</td></tr>\n",
       "\t<tr><td>10       </td><td>0.7158678</td></tr>\n",
       "</tbody>\n",
       "</table>\n"
      ],
      "text/latex": [
       "\\begin{tabular}{r|ll}\n",
       " Fold & Error\\\\\n",
       "\\hline\n",
       "\t  1        & 1.5276707\\\\\n",
       "\t  2        & 1.0053482\\\\\n",
       "\t  3        & 1.6994705\\\\\n",
       "\t  4        & 0.6818521\\\\\n",
       "\t  5        & 0.9367964\\\\\n",
       "\t  6        & 0.9798150\\\\\n",
       "\t  7        & 1.3138620\\\\\n",
       "\t  8        & 0.7112753\\\\\n",
       "\t  9        & 0.4824806\\\\\n",
       "\t 10        & 0.7158678\\\\\n",
       "\\end{tabular}\n"
      ],
      "text/markdown": [
       "\n",
       "Fold | Error | \n",
       "|---|---|---|---|---|---|---|---|---|---|\n",
       "|  1        | 1.5276707 | \n",
       "|  2        | 1.0053482 | \n",
       "|  3        | 1.6994705 | \n",
       "|  4        | 0.6818521 | \n",
       "|  5        | 0.9367964 | \n",
       "|  6        | 0.9798150 | \n",
       "|  7        | 1.3138620 | \n",
       "|  8        | 0.7112753 | \n",
       "|  9        | 0.4824806 | \n",
       "| 10        | 0.7158678 | \n",
       "\n",
       "\n"
      ],
      "text/plain": [
       "   Fold Error    \n",
       "1   1   1.5276707\n",
       "2   2   1.0053482\n",
       "3   3   1.6994705\n",
       "4   4   0.6818521\n",
       "5   5   0.9367964\n",
       "6   6   0.9798150\n",
       "7   7   1.3138620\n",
       "8   8   0.7112753\n",
       "9   9   0.4824806\n",
       "10 10   0.7158678"
      ]
     },
     "metadata": {},
     "output_type": "display_data"
    }
   ],
   "source": [
    "# Verify the results for k=4\n",
    "errors = cv(train.data_cv, train.label_cv, 10, k=4)\n",
    "\n",
    "# check the dataframe output\n",
    "errors"
   ]
  },
  {
   "cell_type": "markdown",
   "metadata": {},
   "source": [
    "2. Using the training data, run your L-Fold CV where the numFold is set to 10. Change the value of K=1,..,20 in your KNN regressor, and for each K compute the average 10 error numbers you have got. Plot the average error numbers versus 1/K for K=1,..,20 in your KNN regressor. Further, add two dashed lines around the average error indicating the average +/- standard deviation of errors."
   ]
  },
  {
   "cell_type": "code",
   "execution_count": 27,
   "metadata": {},
   "outputs": [
    {
     "data": {
      "text/html": [
       "<table>\n",
       "<thead><tr><th scope=col>K</th><th scope=col>Mean_CV_Error</th><th scope=col>Positive_SD</th><th scope=col>Negative_SD</th></tr></thead>\n",
       "<tbody>\n",
       "\t<tr><td> 1        </td><td>1.3086507 </td><td>2.011246  </td><td>0.60605547</td></tr>\n",
       "\t<tr><td> 2        </td><td>1.1023634 </td><td>1.774317  </td><td>0.43041019</td></tr>\n",
       "\t<tr><td> 3        </td><td>0.9659002 </td><td>1.472575  </td><td>0.45922501</td></tr>\n",
       "\t<tr><td> 4        </td><td>1.0138908 </td><td>1.485770  </td><td>0.54201132</td></tr>\n",
       "\t<tr><td> 5        </td><td>1.0065631 </td><td>1.540262  </td><td>0.47286413</td></tr>\n",
       "\t<tr><td> 6        </td><td>0.9134770 </td><td>1.378219  </td><td>0.44873545</td></tr>\n",
       "\t<tr><td> 7        </td><td>0.8140945 </td><td>1.205071  </td><td>0.42311745</td></tr>\n",
       "\t<tr><td> 8        </td><td>0.9025944 </td><td>1.282440  </td><td>0.52274877</td></tr>\n",
       "\t<tr><td> 9        </td><td>0.7783081 </td><td>1.202750  </td><td>0.35386640</td></tr>\n",
       "\t<tr><td>10        </td><td>0.8873148 </td><td>1.278449  </td><td>0.49618090</td></tr>\n",
       "\t<tr><td>11        </td><td>0.8468953 </td><td>1.412832  </td><td>0.28095849</td></tr>\n",
       "\t<tr><td>12        </td><td>0.9350517 </td><td>1.357216  </td><td>0.51288716</td></tr>\n",
       "\t<tr><td>13        </td><td>0.9475450 </td><td>1.470386  </td><td>0.42470368</td></tr>\n",
       "\t<tr><td>14        </td><td>0.9961270 </td><td>1.451695  </td><td>0.54055904</td></tr>\n",
       "\t<tr><td>15        </td><td>1.0119021 </td><td>1.513346  </td><td>0.51045860</td></tr>\n",
       "\t<tr><td>16        </td><td>1.0122173 </td><td>1.499683  </td><td>0.52475211</td></tr>\n",
       "\t<tr><td>17        </td><td>0.9983062 </td><td>1.628601  </td><td>0.36801127</td></tr>\n",
       "\t<tr><td>18        </td><td>1.0457462 </td><td>2.020218  </td><td>0.07127394</td></tr>\n",
       "\t<tr><td>19        </td><td>1.0774679 </td><td>1.747710  </td><td>0.40722541</td></tr>\n",
       "\t<tr><td>20        </td><td>1.1537369 </td><td>1.869603  </td><td>0.43787079</td></tr>\n",
       "</tbody>\n",
       "</table>\n"
      ],
      "text/latex": [
       "\\begin{tabular}{r|llll}\n",
       " K & Mean\\_CV\\_Error & Positive\\_SD & Negative\\_SD\\\\\n",
       "\\hline\n",
       "\t  1         & 1.3086507  & 2.011246   & 0.60605547\\\\\n",
       "\t  2         & 1.1023634  & 1.774317   & 0.43041019\\\\\n",
       "\t  3         & 0.9659002  & 1.472575   & 0.45922501\\\\\n",
       "\t  4         & 1.0138908  & 1.485770   & 0.54201132\\\\\n",
       "\t  5         & 1.0065631  & 1.540262   & 0.47286413\\\\\n",
       "\t  6         & 0.9134770  & 1.378219   & 0.44873545\\\\\n",
       "\t  7         & 0.8140945  & 1.205071   & 0.42311745\\\\\n",
       "\t  8         & 0.9025944  & 1.282440   & 0.52274877\\\\\n",
       "\t  9         & 0.7783081  & 1.202750   & 0.35386640\\\\\n",
       "\t 10         & 0.8873148  & 1.278449   & 0.49618090\\\\\n",
       "\t 11         & 0.8468953  & 1.412832   & 0.28095849\\\\\n",
       "\t 12         & 0.9350517  & 1.357216   & 0.51288716\\\\\n",
       "\t 13         & 0.9475450  & 1.470386   & 0.42470368\\\\\n",
       "\t 14         & 0.9961270  & 1.451695   & 0.54055904\\\\\n",
       "\t 15         & 1.0119021  & 1.513346   & 0.51045860\\\\\n",
       "\t 16         & 1.0122173  & 1.499683   & 0.52475211\\\\\n",
       "\t 17         & 0.9983062  & 1.628601   & 0.36801127\\\\\n",
       "\t 18         & 1.0457462  & 2.020218   & 0.07127394\\\\\n",
       "\t 19         & 1.0774679  & 1.747710   & 0.40722541\\\\\n",
       "\t 20         & 1.1537369  & 1.869603   & 0.43787079\\\\\n",
       "\\end{tabular}\n"
      ],
      "text/markdown": [
       "\n",
       "K | Mean_CV_Error | Positive_SD | Negative_SD | \n",
       "|---|---|---|---|---|---|---|---|---|---|---|---|---|---|---|---|---|---|---|---|\n",
       "|  1         | 1.3086507  | 2.011246   | 0.60605547 | \n",
       "|  2         | 1.1023634  | 1.774317   | 0.43041019 | \n",
       "|  3         | 0.9659002  | 1.472575   | 0.45922501 | \n",
       "|  4         | 1.0138908  | 1.485770   | 0.54201132 | \n",
       "|  5         | 1.0065631  | 1.540262   | 0.47286413 | \n",
       "|  6         | 0.9134770  | 1.378219   | 0.44873545 | \n",
       "|  7         | 0.8140945  | 1.205071   | 0.42311745 | \n",
       "|  8         | 0.9025944  | 1.282440   | 0.52274877 | \n",
       "|  9         | 0.7783081  | 1.202750   | 0.35386640 | \n",
       "| 10         | 0.8873148  | 1.278449   | 0.49618090 | \n",
       "| 11         | 0.8468953  | 1.412832   | 0.28095849 | \n",
       "| 12         | 0.9350517  | 1.357216   | 0.51288716 | \n",
       "| 13         | 0.9475450  | 1.470386   | 0.42470368 | \n",
       "| 14         | 0.9961270  | 1.451695   | 0.54055904 | \n",
       "| 15         | 1.0119021  | 1.513346   | 0.51045860 | \n",
       "| 16         | 1.0122173  | 1.499683   | 0.52475211 | \n",
       "| 17         | 0.9983062  | 1.628601   | 0.36801127 | \n",
       "| 18         | 1.0457462  | 2.020218   | 0.07127394 | \n",
       "| 19         | 1.0774679  | 1.747710   | 0.40722541 | \n",
       "| 20         | 1.1537369  | 1.869603   | 0.43787079 | \n",
       "\n",
       "\n"
      ],
      "text/plain": [
       "   K  Mean_CV_Error Positive_SD Negative_SD\n",
       "1   1 1.3086507     2.011246    0.60605547 \n",
       "2   2 1.1023634     1.774317    0.43041019 \n",
       "3   3 0.9659002     1.472575    0.45922501 \n",
       "4   4 1.0138908     1.485770    0.54201132 \n",
       "5   5 1.0065631     1.540262    0.47286413 \n",
       "6   6 0.9134770     1.378219    0.44873545 \n",
       "7   7 0.8140945     1.205071    0.42311745 \n",
       "8   8 0.9025944     1.282440    0.52274877 \n",
       "9   9 0.7783081     1.202750    0.35386640 \n",
       "10 10 0.8873148     1.278449    0.49618090 \n",
       "11 11 0.8468953     1.412832    0.28095849 \n",
       "12 12 0.9350517     1.357216    0.51288716 \n",
       "13 13 0.9475450     1.470386    0.42470368 \n",
       "14 14 0.9961270     1.451695    0.54055904 \n",
       "15 15 1.0119021     1.513346    0.51045860 \n",
       "16 16 1.0122173     1.499683    0.52475211 \n",
       "17 17 0.9983062     1.628601    0.36801127 \n",
       "18 18 1.0457462     2.020218    0.07127394 \n",
       "19 19 1.0774679     1.747710    0.40722541 \n",
       "20 20 1.1537369     1.869603    0.43787079 "
      ]
     },
     "metadata": {},
     "output_type": "display_data"
    }
   ],
   "source": [
    "# The value of K=1,..,20\n",
    "K <- 20\n",
    "\n",
    "# Dataframe to store the mean cross-validation error\n",
    "cv_error_K <- data.frame('K' = 1:K)\n",
    "\n",
    "# Calculate the mean and standard deviation of errors for each k\n",
    "for (k in 1: K){\n",
    "    \n",
    "    # get the errors using cv\n",
    "    errors <- cv(train.data_cv, train.label_cv, numFold = 10, k)\n",
    "    \n",
    "    # Calculate the average error\n",
    "    avg_error <- mean(errors[,'Error'])\n",
    "    \n",
    "    # calculate the standard deviation of error   \n",
    "    sd_error <- sd(errors[,'Error'])\n",
    "    \n",
    "    # record the results\n",
    "    cv_error_K[k, 'Mean_CV_Error'] <- avg_error\n",
    "    cv_error_K[k, 'Positive_SD'] <- avg_error + sd_error\n",
    "    cv_error_K[k, 'Negative_SD'] <- avg_error - sd_error\n",
    "}\n",
    "\n",
    "# Verify \n",
    "cv_error_K"
   ]
  },
  {
   "cell_type": "code",
   "execution_count": 32,
   "metadata": {},
   "outputs": [
    {
     "data": {},
     "metadata": {},
     "output_type": "display_data"
    },
    {
     "data": {
      "image/png": "[encoded data removed]",
      "text/plain": [
       "plot without title"
      ]
     },
     "metadata": {},
     "output_type": "display_data"
    }
   ],
   "source": [
    "#  Plot the average error numbers versus 1/K for K=1,..,20\n",
    "ggplot(data=cv_error_K, aes(x=1/K, y=Mean_CV_Error)) + \n",
    "        geom_line(color = \"Blue\") +\n",
    "        geom_line(aes(y=Positive_SD),linetype=\"dotted\", color = \"Blue\") + \n",
    "        geom_line(aes(y=Negative_SD),linetype=\"dotted\", color = \"Blue\") +\n",
    "        scale_color_discrete(guide = guide_legend(title = NULL)) +\n",
    "        ggtitle(\"Training error vs Testing\") + theme_grey()"
   ]
  },
  {
   "cell_type": "markdown",
   "metadata": {},
   "source": [
    "3. Report (in your Jupyter Notebook file) the values of K that result to minimum average error and minimum standard deviation of errors based on the cross validation plot in the previous part (Part II).\n",
    "\n",
    "**Answer:** \n",
    "* From the graph, 1/K~ 0.11 (i.e. 9<K<10) results in minimum average error and minimum standard deviation of errors based on the cross validation. \n",
    "* The minimum average error observed is 0.76 with positive and negative standard deviation as 1.49 and 0.027 respectively. \n",
    "* Thus, cross-validation verifies that the optimum value of **K is between 9 and 10**."
   ]
  },
  {
   "cell_type": "code",
   "execution_count": null,
   "metadata": {},
   "outputs": [],
   "source": []
  }
 ],
 "metadata": {
  "kernelspec": {
   "display_name": "R",
   "language": "R",
   "name": "ir"
  },
  "language_info": {
   "codemirror_mode": "r",
   "file_extension": ".r",
   "mimetype": "text/x-r-source",
   "name": "R",
   "pygments_lexer": "r",
   "version": "3.5.1"
  }
 },
 "nbformat": 4,
 "nbformat_minor": 2
}
