{
 "cells": [
  {
   "cell_type": "markdown",
   "metadata": {},
   "source": [
    "## Section B. Prediction Uncertainty with Bootstrapping\n",
    "\n",
    "### Question 3 [Bootstrapping, 20 Marks]"
   ]
  },
  {
   "cell_type": "code",
   "execution_count": 1,
   "metadata": {},
   "outputs": [
    {
     "name": "stderr",
     "output_type": "stream",
     "text": [
      "Warning message:\n",
      "\"package 'reshape' was built under R version 3.5.3\"Warning message:\n",
      "\"package 'ggplot2' was built under R version 3.5.3\""
     ]
    }
   ],
   "source": [
    "# Load the libraries for wrangling and plotting data\n",
    "library(reshape)\n",
    "library(ggplot2)"
   ]
  },
  {
   "cell_type": "markdown",
   "metadata": {},
   "source": [
    "1. Modify the code in Activity 2 to handle bootstrapping for KNN regression.\n",
    "\n",
    "2. Load Task1B_train.csv and Task1B_test.csv sets. Apply your\n",
    "    bootstrapping for KNN regression with times = 100 (the number of\n",
    "    subsets), size = 25 (the size of each subset), and change K=1,..,20 (the\n",
    "    neighbourhood size). Now create a boxplot where the x-axis is K , and the\n",
    "    y-axis is the average error (and the uncertainty around it) corresponding to\n",
    "    each K . Save the plot in your Jupyter Notebook file for Question 3."
   ]
  },
  {
   "cell_type": "code",
   "execution_count": 2,
   "metadata": {},
   "outputs": [],
   "source": [
    "# Load the train and the test set for task 1B\n",
    "train_B <- read.csv(\"Task1B_train.csv\")\n",
    "test_B <- read.csv(\"Task1B_test.csv\")\n",
    "\n",
    "# Split the data into input values and corresponding labels\n",
    "train_B.data <- train_B[,-5]\n",
    "train_B.label <- train_B[, 5]\n",
    "\n",
    "test_B.data <- test_B[, -5]\n",
    "test_B.label <- test_B[, 5]"
   ]
  },
  {
   "cell_type": "markdown",
   "metadata": {},
   "source": [
    "Define a function that generates sample indixes based on bootstrap technique"
   ]
  },
  {
   "cell_type": "code",
   "execution_count": 4,
   "metadata": {},
   "outputs": [
    {
     "data": {
      "text/html": [
       "<table>\n",
       "<tbody>\n",
       "\t<tr><td>67 </td><td>60 </td><td>97 </td><td>71 </td><td>76 </td><td>54 </td><td>26 </td><td>97 </td><td>99 </td><td>94 </td><td>...</td><td>41 </td><td>79 </td><td>75 </td><td>82 </td><td>62 </td><td>39 </td><td>21 </td><td>45 </td><td>99 </td><td>81 </td></tr>\n",
       "\t<tr><td>68 </td><td>89 </td><td>11 </td><td>97 </td><td>95 </td><td>36 </td><td>96 </td><td>17 </td><td>21 </td><td>38 </td><td>...</td><td>19 </td><td> 7 </td><td>46 </td><td>42 </td><td>46 </td><td>52 </td><td>69 </td><td>78 </td><td>59 </td><td>30 </td></tr>\n",
       "</tbody>\n",
       "</table>\n"
      ],
      "text/latex": [
       "\\begin{tabular}{llllllllllllllllllllllllllllllllllllllllllllllllll}\n",
       "\t 67  & 60  & 97  & 71  & 76  & 54  & 26  & 97  & 99  & 94  & ... & 41  & 79  & 75  & 82  & 62  & 39  & 21  & 45  & 99  & 81 \\\\\n",
       "\t 68  & 89  & 11  & 97  & 95  & 36  & 96  & 17  & 21  & 38  & ... & 19  &  7  & 46  & 42  & 46  & 52  & 69  & 78  & 59  & 30 \\\\\n",
       "\\end{tabular}\n"
      ],
      "text/markdown": [
       "\n",
       "| 67  | 60  | 97  | 71  | 76  | 54  | 26  | 97  | 99  | 94  | ... | 41  | 79  | 75  | 82  | 62  | 39  | 21  | 45  | 99  | 81  | \n",
       "| 68  | 89  | 11  | 97  | 95  | 36  | 96  | 17  | 21  | 38  | ... | 19  |  7  | 46  | 42  | 46  | 52  | 69  | 78  | 59  | 30  | \n",
       "\n",
       "\n"
      ],
      "text/plain": [
       "     [,1] [,2] [,3] [,4] [,5] [,6] [,7] [,8] [,9] [,10] [,11] [,12] [,13] [,14]\n",
       "[1,] 67   60   97   71   76   54   26   97   99   94    ...   41    79    75   \n",
       "[2,] 68   89   11   97   95   36   96   17   21   38    ...   19     7    46   \n",
       "     [,15] [,16] [,17] [,18] [,19] [,20] [,21]\n",
       "[1,] 82    62    39    21    45    99    81   \n",
       "[2,] 42    46    52    69    78    59    30   "
      ]
     },
     "metadata": {},
     "output_type": "display_data"
    }
   ],
   "source": [
    "# Function to generate sample indices using bootstrapping\n",
    "boot <- function (original.size=100, sample.size=original.size, times=100){\n",
    "    indx <- matrix(nrow=times, ncol=sample.size)\n",
    "    for (t in 1:times){\n",
    "        indx[t, ] <- sample(x=original.size, size=sample.size, replace = TRUE)\n",
    "    }\n",
    "    return(indx)\n",
    "}\n",
    "\n",
    "#just to see if it works!\n",
    "boot(100, 50, 2)"
   ]
  },
  {
   "cell_type": "code",
   "execution_count": 7,
   "metadata": {},
   "outputs": [],
   "source": [
    "# KNN function to return the k nearest elements using euclidean distance\n",
    "knn <- function(train.data, train.label, test.data, K=3, distance = 'euclidean'){\n",
    "    ## count number of train samples\n",
    "    train.len <- nrow(train.data)\n",
    "    \n",
    "    ## count number of test samples\n",
    "    test.len <- nrow(test.data)\n",
    "    \n",
    "    ## calculate distances between samples\n",
    "    dist <- as.matrix(dist(rbind(test.data, train.data), method= distance))[1:test.len, (test.len+1):(test.len+train.len)]\n",
    "    \n",
    "    # Initialize the predicted value vector\n",
    "    test.label <- 0.0\n",
    "    \n",
    "    ## for each test sample...\n",
    "    for (i in 1:test.len){\n",
    "        ### ...find its K nearest neighbours from training sampels...\n",
    "        nn <- as.data.frame(sort(dist[i,], index.return = TRUE))[1:K,2]  # returns indices of 4 nearest neighbours\n",
    "                \n",
    "        ###... and calculate the predicted labels according to the majority vote\n",
    "        \n",
    "        avg <- mean(train.label[nn])\n",
    "        \n",
    "        test.label[i]<- round(avg, 2)\n",
    "\n",
    "    }\n",
    "    \n",
    "    ## return the class labels as output\n",
    "    return (test.label)\n",
    "}"
   ]
  },
  {
   "cell_type": "code",
   "execution_count": 8,
   "metadata": {},
   "outputs": [],
   "source": [
    "# Create 100 datasets of size 25 from a training set of size 42 for k=1 to 20\n",
    "K <- 20           # Maximum K for KNN \n",
    "N <- 25          # size of a dataset (1 row is a datset)\n",
    "L <- 100          # number of datasets\n",
    "\n",
    "# Generate indices for l=100 datasets  from the dataset of length nrow(train_B.data)\n",
    "boot.indx <- boot(nrow(train_B.data), N, L)\n",
    "\n",
    "# a dataframe to track the RMSE value of each dataset\n",
    "rmse_boot <- data.frame('K'=1:K, 'L'=1:L, 'test'=rep(0,L*K))\n",
    "\n",
    "# THIS MAY TAKE A FEW MINUTES TO COMPLETE\n",
    "## for every k values:\n",
    "for (k in 1: K){\n",
    "    \n",
    "    ### for every dataset:\n",
    "    for (l in 1:L){\n",
    "        \n",
    "        #### calculate iteration index i\n",
    "        i <- (k-1)*L+l\n",
    "        \n",
    "        #### save sample indices that were selected by bootstrap\n",
    "        indx <- boot.indx[l,]\n",
    "        \n",
    "        #### save the value of k and l\n",
    "        rmse_boot[i,'K'] <- k\n",
    "        rmse_boot[i,'L'] <- l\n",
    "        \n",
    "        # Predict the k nearest neighbours for each dataset from 1 to L\n",
    "        predicted.test_B <- knn(train_B.data[indx,], train_B.label[indx], test_B.data, K=k)\n",
    "        \n",
    "        # Store the RMSE for each dataset\n",
    "        rmse_boot[i,'test'] <- sqrt(mean((predicted.test_B - test_B.label)^2))\n",
    "    } \n",
    "}"
   ]
  },
  {
   "cell_type": "code",
   "execution_count": 9,
   "metadata": {},
   "outputs": [
    {
     "data": {
      "text/html": [
       "<table>\n",
       "<thead><tr><th scope=col>K</th><th scope=col>L</th><th scope=col>test</th></tr></thead>\n",
       "<tbody>\n",
       "\t<tr><td>1       </td><td>1       </td><td>218.1670</td></tr>\n",
       "\t<tr><td>1       </td><td>2       </td><td>185.2063</td></tr>\n",
       "\t<tr><td>1       </td><td>3       </td><td>237.3883</td></tr>\n",
       "\t<tr><td>1       </td><td>4       </td><td>182.5515</td></tr>\n",
       "\t<tr><td>1       </td><td>5       </td><td>152.8082</td></tr>\n",
       "\t<tr><td>1       </td><td>6       </td><td>153.7766</td></tr>\n",
       "</tbody>\n",
       "</table>\n"
      ],
      "text/latex": [
       "\\begin{tabular}{r|lll}\n",
       " K & L & test\\\\\n",
       "\\hline\n",
       "\t 1        & 1        & 218.1670\\\\\n",
       "\t 1        & 2        & 185.2063\\\\\n",
       "\t 1        & 3        & 237.3883\\\\\n",
       "\t 1        & 4        & 182.5515\\\\\n",
       "\t 1        & 5        & 152.8082\\\\\n",
       "\t 1        & 6        & 153.7766\\\\\n",
       "\\end{tabular}\n"
      ],
      "text/markdown": [
       "\n",
       "K | L | test | \n",
       "|---|---|---|---|---|---|\n",
       "| 1        | 1        | 218.1670 | \n",
       "| 1        | 2        | 185.2063 | \n",
       "| 1        | 3        | 237.3883 | \n",
       "| 1        | 4        | 182.5515 | \n",
       "| 1        | 5        | 152.8082 | \n",
       "| 1        | 6        | 153.7766 | \n",
       "\n",
       "\n"
      ],
      "text/plain": [
       "  K L test    \n",
       "1 1 1 218.1670\n",
       "2 1 2 185.2063\n",
       "3 1 3 237.3883\n",
       "4 1 4 182.5515\n",
       "5 1 5 152.8082\n",
       "6 1 6 153.7766"
      ]
     },
     "metadata": {},
     "output_type": "display_data"
    }
   ],
   "source": [
    "# Check the top 5 results to verify the dataframe\n",
    "head(rmse_boot)"
   ]
  },
  {
   "cell_type": "code",
   "execution_count": 10,
   "metadata": {},
   "outputs": [
    {
     "data": {},
     "metadata": {},
     "output_type": "display_data"
    },
    {
     "data": {
      "image/png": "[encoded data removed]",
      "text/plain": [
       "plot without title"
      ]
     },
     "metadata": {},
     "output_type": "display_data"
    }
   ],
   "source": [
    "# reshape for visualization\n",
    "rmse_boot.m <- melt(rmse_boot, id=c('K', 'L')) \n",
    "names(rmse_boot.m) <- c('K', 'L', 'type', 'RMSE')\n",
    "\n",
    "# Boxplot where the x-axis is K , and the y-axis is the average error\n",
    "ggplot(data=rmse_boot.m[rmse_boot.m$type=='test',], aes(factor(K), RMSE,fill=type)) + geom_boxplot(outlier.shape = NA)  + \n",
    "    scale_color_discrete(guide = guide_legend(title = NULL)) + \n",
    "    ggtitle('RMSE vs. K (Box Plot)') + theme_minimal()\n",
    "\n",
    "# ignore the warnings (because of ignoring outliers)\n",
    "options(warn=-1)"
   ]
  },
  {
   "cell_type": "markdown",
   "metadata": {},
   "source": [
    "3. Based on the plot in the previous part (Part I), how does the test error and its uncertainty behave as K increases?\n",
    "<br>\n",
    "\n",
    "**Answer:**\n",
    "* The plot in the previous part compares the RMSE of test data with the values of K nearest neighbours.\n",
    "* From the plot, it can be observed that as the value of k increases, the median of error and the uncertainity around it also increases. \n",
    "* Initially the median error is very low for K=1 to 3. When the value of K reaches 10, the median of error continues to increase, however, the uncertainity around it gradually decrease.\n",
    "* This variability in the graph may be a result of very small sample sizes compared to the total size of the original sample."
   ]
  },
  {
   "cell_type": "markdown",
   "metadata": {},
   "source": [
    "4. Apply your bootstrapping for KNN regression with K=10 (the neighbourhood size),\n",
    "size = 25 (the size of each subset), and change times = 10, 20, 30,.., 200\n",
    "(the number of subsets). Now create a boxplot where the x-axis is ‘times’,\n",
    "and the y-axis is the average error (and the uncertainty around it)\n",
    "corresponding to each value of ‘times’. Save the plot in your Jupyter\n",
    "Notebook file for Question 3."
   ]
  },
  {
   "cell_type": "code",
   "execution_count": 11,
   "metadata": {},
   "outputs": [
    {
     "data": {
      "text/html": [
       "<table>\n",
       "<thead><tr><th scope=col>Change_Times</th><th scope=col>L</th><th scope=col>test</th></tr></thead>\n",
       "<tbody>\n",
       "\t<tr><td>10      </td><td>1       </td><td>309.2523</td></tr>\n",
       "\t<tr><td>10      </td><td>2       </td><td>529.6757</td></tr>\n",
       "\t<tr><td>10      </td><td>3       </td><td>377.3661</td></tr>\n",
       "\t<tr><td>10      </td><td>4       </td><td>335.9228</td></tr>\n",
       "\t<tr><td>10      </td><td>5       </td><td>533.3893</td></tr>\n",
       "\t<tr><td>10      </td><td>6       </td><td>376.8499</td></tr>\n",
       "</tbody>\n",
       "</table>\n"
      ],
      "text/latex": [
       "\\begin{tabular}{r|lll}\n",
       " Change\\_Times & L & test\\\\\n",
       "\\hline\n",
       "\t 10       & 1        & 309.2523\\\\\n",
       "\t 10       & 2        & 529.6757\\\\\n",
       "\t 10       & 3        & 377.3661\\\\\n",
       "\t 10       & 4        & 335.9228\\\\\n",
       "\t 10       & 5        & 533.3893\\\\\n",
       "\t 10       & 6        & 376.8499\\\\\n",
       "\\end{tabular}\n"
      ],
      "text/markdown": [
       "\n",
       "Change_Times | L | test | \n",
       "|---|---|---|---|---|---|\n",
       "| 10       | 1        | 309.2523 | \n",
       "| 10       | 2        | 529.6757 | \n",
       "| 10       | 3        | 377.3661 | \n",
       "| 10       | 4        | 335.9228 | \n",
       "| 10       | 5        | 533.3893 | \n",
       "| 10       | 6        | 376.8499 | \n",
       "\n",
       "\n"
      ],
      "text/plain": [
       "  Change_Times L test    \n",
       "1 10           1 309.2523\n",
       "2 10           2 529.6757\n",
       "3 10           3 377.3661\n",
       "4 10           4 335.9228\n",
       "5 10           5 533.3893\n",
       "6 10           6 376.8499"
      ]
     },
     "metadata": {},
     "output_type": "display_data"
    }
   ],
   "source": [
    "# Create datasets of with change times from 10 to 200 (ie 10,20,30...200)\n",
    "K <- 10           # Maximum K for KNN \n",
    "N <- 25          # size of a dataset (1 row is a datset)\n",
    "\n",
    "# Change times 10, 20, 30,.., 200 (the number of subsets)\n",
    "change_times <- seq(from = 10, to = 200, by = 10)\n",
    "          \n",
    "\n",
    "# Create 50 datasets (indices) of size 42 from a training set of size 42 for k=1 to 20\n",
    "boot.indx <- boot(nrow(train_B.data), N, 200)\n",
    "\n",
    "# a dataframe to track the average error corresponding to each value of times\n",
    "rmse_boot_4 <- data.frame()\n",
    "\n",
    "# Initialize the counter x = 0\n",
    "x = 0\n",
    "\n",
    "# THIS MAY TAKE A FEW MINUTES TO COMPLETE\n",
    "## for every k values:\n",
    "for (ct in change_times){\n",
    "   \n",
    "    ### for every dataset:\n",
    "    for (l in 1:ct){\n",
    "        \n",
    "        #### calculate iteration index i. i increments by change time ct with every iteration\n",
    "        i <- x + l\n",
    "        \n",
    "        #### save sample indices that were selected by bootstrap\n",
    "        indx <- boot.indx[l,]\n",
    "        \n",
    "        #### save the value of k and l\n",
    "        rmse_boot_4[i,'Change_Times'] <- ct\n",
    "        rmse_boot_4[i,'L'] <- l\n",
    "        \n",
    "        # Predict the k nearest neighbours for each dataset from 1 to L\n",
    "        predicted.test_B <- knn(train_B.data[indx,], train_B.label[indx], test_B.data, K=10)\n",
    "        \n",
    "        # Store the RMSE for each dataset\n",
    "        rmse_boot_4[i,'test'] <- sqrt(mean((predicted.test_B - test_B.label)^2))\n",
    "    } \n",
    "    \n",
    "    # Increment counter by the size of the change time\n",
    "    x <- x+ct\n",
    "}\n",
    "\n",
    "# Verify using initial values of the dataframe\n",
    "head(rmse_boot_4)"
   ]
  },
  {
   "cell_type": "code",
   "execution_count": 12,
   "metadata": {},
   "outputs": [
    {
     "data": {},
     "metadata": {},
     "output_type": "display_data"
    },
    {
     "data": {
      "image/png": "[encoded data removed]",
      "text/plain": [
       "plot without title"
      ]
     },
     "metadata": {},
     "output_type": "display_data"
    }
   ],
   "source": [
    "# boxplot where the x-axis is ‘change times’, and the y-axis is the average error \n",
    "ggplot(data = rmse_boot_4, aes(x = factor(Change_Times), y = test)) + geom_boxplot(outlier.shape = NA)  + \n",
    "    scale_color_discrete(guide = guide_legend(title = NULL)) + \n",
    "    ggtitle('RMSE vs. Change times') + theme_grey()\n",
    "\n",
    "# ignore the warnings (because of ignoring outliers)\n",
    "options(warn=-1)"
   ]
  },
  {
   "cell_type": "markdown",
   "metadata": {},
   "source": [
    "5. Based on the plot in the previous part (Part IV), how does the test error and its uncertainty behave as the number of subsets in bootstrapping increases?\n",
    "<br>\n",
    "\n",
    "**Answer:**\n",
    "* The plot in the previous part analyses the error in the test dataset with the change in the size of data subsets.\n",
    "* Based on the plot, it can be interpreted that there is some variability in the median of test errors till the size of the subset is less than 90. However, as the subset size increases beyond 90, the median test error becomes almost constant. \n",
    "* The upper and lower quartiles are almost constant with respect to every dataset beyond subset size 90.\n",
    "* Thus, the median error of test values become constant beyond a particular subset size. In conclusion, the average error in the test size becomes stable with increase in sample subset size.\n"
   ]
  }
 ],
 "metadata": {
  "kernelspec": {
   "display_name": "R",
   "language": "R",
   "name": "ir"
  },
  "language_info": {
   "codemirror_mode": "r",
   "file_extension": ".r",
   "mimetype": "text/x-r-source",
   "name": "R",
   "pygments_lexer": "r",
   "version": "3.5.1"
  }
 },
 "nbformat": 4,
 "nbformat_minor": 2
}
