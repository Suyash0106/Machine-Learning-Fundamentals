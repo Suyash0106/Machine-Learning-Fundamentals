{
 "cells": [
  {
   "cell_type": "markdown",
   "metadata": {},
   "source": [
    "## Section D. Ridge Regression\n",
    "\n",
    "### Question 6 [Ridge Regression, 25 Marks]\n",
    "\n",
    "1. Given the gradient descent algorithms for linear regression (discussed in\n",
    "Chapter 2 of Module 2), derive weight update steps of stochastic gradient\n",
    "descent (SGD) as well as batch gradient descent (BGD) for linear\n",
    "regression with L2 regularisation norm. Show your work with enough\n",
    "explanation in your PDF report; you should provide the steps of SGD and\n",
    "BGD, separately.\n",
    "<br>\n",
    "\n",
    "**Answer:** Answer is supplemented in the pdf report"
   ]
  },
  {
   "cell_type": "markdown",
   "metadata": {},
   "source": [
    "2. Using R (with no use of special libraries), implement SGD and BGD algorithms that you derived in Step I."
   ]
  },
  {
   "cell_type": "code",
   "execution_count": 39,
   "metadata": {},
   "outputs": [],
   "source": [
    "# Load the libraries for wrangling and plotting data\n",
    "library(reshape)\n",
    "library(ggplot2)"
   ]
  },
  {
   "cell_type": "code",
   "execution_count": 40,
   "metadata": {},
   "outputs": [],
   "source": [
    "# reading the data\n",
    "read_data <- function(fname, sc) {\n",
    "   data <- read.csv(file=fname,head=TRUE,sep=\",\")\n",
    "   nr = dim(data)[1]\n",
    "   nc = dim(data)[2]\n",
    "   x = data[1:nr,1:(nc-1)]\n",
    "   y = data[1:nr,nc]\n",
    "   if (isTRUE(sc)) {\n",
    "      x = scale(x)\n",
    "      y = scale(y)\n",
    "   }\n",
    "   return (list(\"x\" = x, \"y\" = y))\n",
    "}"
   ]
  },
  {
   "cell_type": "code",
   "execution_count": 41,
   "metadata": {},
   "outputs": [],
   "source": [
    "# auxiliary function to calculate labels based on the estimated coefficients\n",
    "predict_func <- function(Phi, w){\n",
    "    return(Phi%*%w)\n",
    "} \n",
    "\n",
    "# auxiliary function to calculate the objective function for the training\n",
    "train_obj_func <- function (Phi, w, label, lambda){\n",
    "    # the L2 regulariser is already included in the objective function for training \n",
    "    return(mean((predict_func(Phi, w) - label)^2) + .5 * lambda * w %*% w)\n",
    "}\n",
    "\n",
    "# auxiliary function to compute the error of the model\n",
    "get_errors <- function(train_data, test_data, W) {\n",
    "   n_weights = dim(W)[1]\n",
    "   errors = matrix(,nrow=n_weights, ncol=2)\n",
    "   for (tau in 1:n_weights) {\n",
    "      errors[tau,1] = train_obj_func(train_data$x, W[tau,],train_data$y, 0)\n",
    "      errors[tau,2] = train_obj_func(test_data$x, W[tau,],test_data$y, 0)\n",
    "   }\n",
    "   return(errors)\n",
    "}"
   ]
  },
  {
   "cell_type": "markdown",
   "metadata": {},
   "source": [
    "In the following SGD algorithm, the *sgd_update_weight()* function is updated and the gradient of regularization term (lambda*W_previous) is added."
   ]
  },
  {
   "cell_type": "code",
   "execution_count": 42,
   "metadata": {},
   "outputs": [],
   "source": [
    "##--- Stochastic Gradient Descent --------------------------------------------\n",
    "sgd_train <- function(train_x, train_y, lambda, eta, epsilon, max_epoch) {\n",
    "\n",
    "   train_len = dim(train_x)[1]\n",
    "   tau_max = max_epoch * train_len\n",
    "\n",
    "   W <- matrix(,nrow=tau_max, ncol=ncol(train_x)) \n",
    "   W[1,] <- runif(ncol(train_x))\n",
    "  \n",
    "   tau = 1 # counter \n",
    "   obj_func_val <-matrix(,nrow=tau_max, ncol=1) \n",
    "   obj_func_val[tau,1] = train_obj_func(train_x, W[tau,],train_y, lambda)\n",
    "\n",
    "   while (tau <= tau_max){\n",
    "\n",
    "       # check termination criteria\n",
    "       if (obj_func_val[tau,1]<=epsilon) {break}\n",
    " \n",
    "       # shuffle data:\n",
    "       train_index <- sample(1:train_len, train_len, replace = FALSE)\n",
    "    \n",
    "       # loop over each datapoint\n",
    "       for (i in train_index) {\n",
    "           # increment the counter\n",
    "           tau <- tau + 1\n",
    "           if (tau > tau_max) {break}\n",
    "\n",
    "           # make the weight update\n",
    "           y_pred <- predict_func(train_x[i,], W[tau-1,])\n",
    "           W[tau,] <- sgd_update_weight(W[tau-1,], train_x[i,], train_y[i], y_pred, lambda, eta)\n",
    "\n",
    "           # keep track of the objective funtion\n",
    "           obj_func_val[tau,1] = train_obj_func(train_x, W[tau,],train_y, lambda)\n",
    "       }\n",
    "   }\n",
    "   # resulting values for the training objective function as well as the weights\n",
    "   return(list('vals'=obj_func_val,'W'=W))\n",
    "}\n",
    "\n",
    "# updating the weight vector\n",
    "sgd_update_weight <- function(W_prev, x, y_true, y_pred, lambda, eta) {\n",
    "   grad = (- (y_true-y_pred) %*% x ) + lambda %*% W_prev\n",
    "   return(W_prev - eta %*% grad)\n",
    "}"
   ]
  },
  {
   "cell_type": "markdown",
   "metadata": {},
   "source": [
    "Similar changes are done in the *bgd_update_weight()* function by adding the gradient of regularization term (lambda*W_previous)."
   ]
  },
  {
   "cell_type": "code",
   "execution_count": 43,
   "metadata": {},
   "outputs": [],
   "source": [
    "##--- Batch Gradient Descent --------------------------------------------\n",
    "bgd_train <- function(train_x, train_y, lambda, eta, epsilon, max_epoch) {\n",
    "\n",
    "   train_len = dim(train_x)[1]\n",
    "\n",
    "   W <- matrix(,nrow=(max_epoch+1), ncol=ncol(train_x))\n",
    "   W[1,] <- runif(ncol(train_x))\n",
    "\n",
    "   tau = 1 # counter \n",
    "   obj_func_val <-matrix(,nrow=(max_epoch+1), ncol=1)\n",
    "   obj_func_val[tau,1] = train_obj_func(train_x, W[tau,],train_y, lambda)\n",
    "\n",
    "   trainin_size = dim(train_x)[1]\n",
    "   for (tau in 1:max_epoch){\n",
    "       \n",
    "       #if (tau == tau_max) {break}\n",
    "       \n",
    "       # check termination criteria\n",
    "       if (obj_func_val[tau,1]<=epsilon) {break}\n",
    "\n",
    "       # make prediction over the training set\n",
    "       y_pred = train_x %*% W[tau,]\n",
    "\n",
    "       # update the weight you may decide to chose linear search or not (we are not using line search here)\n",
    "       W[tau+1,] = bgd_update_weight(W[tau,], train_x, train_y, y_pred, lambda, eta)\n",
    "\n",
    "       # keep track of the objective funtion\n",
    "       obj_func_val[tau+1,1] = train_obj_func(train_x, W[tau+1,],train_y, lambda)\n",
    "   } \n",
    "   # resulting values for the training objective function as well as the weights\n",
    "   return(list('vals'=obj_func_val,'W'=W))\n",
    "}\n",
    "\n",
    "# updating the weight vector\n",
    "bgd_update_weight <- function(W_prev, x, y_true, y_pred, lambda, eta) {\n",
    "   grad = (-colMeans(matrix((y_true-y_pred),nrow=dim(x)[1],ncol=dim(x)[2]) * x)) + lambda %*% W_prev\n",
    "   return (W_prev - eta * grad)\n",
    "}"
   ]
  },
  {
   "cell_type": "markdown",
   "metadata": {},
   "source": [
    "3. Now let’s compare SGD and BGD implementations of ridge regression from Step 2:\n",
    "<br> \n",
    "\n",
    "a. Load Task2A_train.csv and Task2A_test.csv sets.\n",
    "<br>\n",
    "b. Set the termination criterion as maximum of 20 weight updates for BGD, which is equivalent to 20 x N weight updates for SGD (where N is the number of training data).\n",
    "<br>\n",
    "c. Run your implementations of SGD and BGD while all parameter settings (initial values, learning rate etc) are exactly the same for both algorithms. During run, record training error rate every time the weights get updated. Create a plot of error rates (use different colors for SGD and BGD), where the x-axis is the number of visited data points and y-axis is the error rate. Save your plot in your Jupyter Notebook file for Question 6. Note that for every N errors for SGD in the plot, you will only have one error for BGD; the totallength of the x-axis will be 20 x N."
   ]
  },
  {
   "cell_type": "code",
   "execution_count": 44,
   "metadata": {},
   "outputs": [],
   "source": [
    "SGD <- function() {\n",
    "   ## reading the data\n",
    "   dtrain = read_data(\"Task2A_train.csv\", TRUE)\n",
    "   dtest = read_data(\"Task2A_test.csv\", TRUE)\n",
    " \n",
    "   ##### SGD Trainng\n",
    "   max_epoch = 20\n",
    "   epsilon = .001\n",
    "   eta = .01\n",
    "   lambda=0\n",
    "    \n",
    "   # Get the weights using the training dataset\n",
    "   train_res = sgd_train(dtrain$x, dtrain$y, lambda, eta, epsilon, max_epoch)\n",
    "    \n",
    "   # Calculate the errors\n",
    "   errors = get_errors(dtrain, dtest, train_res$W) \n",
    "    \n",
    "   # Return errors from the SGD function\n",
    "   return(errors)\n",
    "\n",
    "}"
   ]
  },
  {
   "cell_type": "code",
   "execution_count": 48,
   "metadata": {},
   "outputs": [],
   "source": [
    "BGD <- function() {\n",
    "   ## reading the data\n",
    "   dtrain = read_data(\"Task2A_train.csv\", TRUE)\n",
    "   dtest = read_data(\"Task2A_test.csv\", TRUE)\n",
    "   #print(dtrain)\n",
    "\n",
    "   ##### BGD Training\n",
    "   max_epoch = 20\n",
    "   epsilon = .001\n",
    "   eta = .01\n",
    "   lambda=0\n",
    "\n",
    "   # Get the weights using the training dataset\n",
    "   train_res = bgd_train(dtrain$x, dtrain$y, lambda, eta, epsilon, max_epoch)\n",
    "    \n",
    "   # Calculate the errors\n",
    "   errors = get_errors(dtrain, dtest, train_res$W)\n",
    "    \n",
    "   # Return errors from the BGD function\n",
    "   return(errors)\n",
    "   \n",
    "} "
   ]
  },
  {
   "cell_type": "markdown",
   "metadata": {},
   "source": [
    "**Note:** Since BGD algorithm works on the entire dataset batch, its error value is represented as the constant for each row of the corresponding batch, e.g., for Sample 1 which has 930 rows (datapoints), single BGD error is represented for each row. Hence, for every dataset, there is only one BGD error and 930 SGD errors."
   ]
  },
  {
   "cell_type": "code",
   "execution_count": 46,
   "metadata": {},
   "outputs": [],
   "source": [
    "# Get the length of training set\n",
    "dtrain = read_data(\"Task2A_train.csv\", TRUE)\n",
    "count <- nrow(dtrain$x)\n",
    "\n",
    "# get the SGD errors\n",
    "errors_sgd = SGD()\n",
    "errors_sgd = errors_sgd[,2]\n",
    "\n",
    "# get the BGD errors\n",
    "errors_bgd = BGD()\n",
    "errors_bgd = errors_bgd[-21,2] \n",
    "\n",
    "# store the SGD and BGD errors\n",
    "errors <- data.frame('Points' = 1:length(errors_sgd) , 'Errors_SGD' = errors_sgd)\n",
    "\n",
    "# create a vector of BGD values\n",
    "bdg_val <- c()\n",
    "\n",
    "# Repeat the BGD errors equal to the length of training set (930)\n",
    "for (val in errors_bgd){\n",
    "    x <- rep(val,times=count)\n",
    "    bdg_val <- c(bdg_val,x)\n",
    "}\n",
    "\n",
    "# Store the BGD error corresponding to each row in the errors matrix\n",
    "errors$Errors_BGD <-  bdg_val"
   ]
  },
  {
   "cell_type": "code",
   "execution_count": 47,
   "metadata": {},
   "outputs": [
    {
     "data": {},
     "metadata": {},
     "output_type": "display_data"
    },
    {
     "data": {
      "image/png": "[encoded data removed]",
      "text/plain": [
       "plot without title"
      ]
     },
     "metadata": {},
     "output_type": "display_data"
    }
   ],
   "source": [
    "# reshape for visualization\n",
    "errors.m <- melt(errors, id='Points')\n",
    "names(errors.m) <- c('Points', 'Type', 'Error')\n",
    "#head(errors.m)\n",
    "\n",
    "# plot the BGD and SGD errors\n",
    "ggplot(data=errors.m, aes(x=Points, y=Error, color=Type)) + geom_line() +\n",
    "       scale_color_discrete(guide = guide_legend(title = NULL)) +\n",
    "       ggtitle(\"BGD vs SGD Errors\") + theme_grey()"
   ]
  },
  {
   "cell_type": "markdown",
   "metadata": {},
   "source": [
    "d. Explain (in your Jupyter Notebook file) your observation based on the errors plot you generated in Part c. Particularly, discuss the convergence speed and the fluctuations you see in the error trends.\n",
    "\n",
    "**Answer**\n",
    "* The above graph compares the error rate of SGD and BGD algorithm as the number of data points increases.\n",
    "* Since SGD calculates weight parameters for every point in the dataset whereas BGD calculates weight over the mean of the dataset, there is only one BGD error corresponding to 930 (number of data points in 1 sample) errors of SGD.\n",
    "* It is observed from the graph that as the number of samples increases, the error rate of both SGD and BGD algorithms decreases.\n",
    "* However, the convergence rate of SGD algorithm is very high as compared to the BGD, since computations are performed for every input element (X) of the dataset. \n",
    "* Also, the fluctuations in the errors of BGD remain constant over the dataset since the error is constant over the dataset. In contrast, very fine fluctuations can be seen the error values of BGD due to the same above reason.\n",
    "* SGD algorithm seems computationally very expensive, but it results in a better weight parameters compared to the BGD algorithm."
   ]
  }
 ],
 "metadata": {
  "kernelspec": {
   "display_name": "R",
   "language": "R",
   "name": "ir"
  },
  "language_info": {
   "codemirror_mode": "r",
   "file_extension": ".r",
   "mimetype": "text/x-r-source",
   "name": "R",
   "pygments_lexer": "r",
   "version": "3.5.1"
  }
 },
 "nbformat": 4,
 "nbformat_minor": 2
}
