{
 "cells": [
  {
   "cell_type": "markdown",
   "metadata": {},
   "source": [
    "## Section E. Bias-Variance Analysis\n",
    "\n",
    "In this section, you conduct a bias-variance study on the ridge regression that\n",
    "you have developed in Section D . This task assesses your analytical skills, and is\n",
    "based on Chapter 6 of Module 2. You basically recreate Figure 2.6.3 of Module 2\n",
    "using your implementation of Ridge regression (with SGD) from Section D .\n",
    "\n",
    "### Question 7 [Bias-Variance for Ridge Regression, 25 Marks]"
   ]
  },
  {
   "cell_type": "code",
   "execution_count": 3,
   "metadata": {},
   "outputs": [],
   "source": [
    "# Load the libraries for wrangling and plotting data\n",
    "library(ggplot2) \n",
    "library(reshape2)"
   ]
  },
  {
   "cell_type": "code",
   "execution_count": 4,
   "metadata": {},
   "outputs": [],
   "source": [
    "# reading the data\n",
    "read_data <- function(fname, sc) {\n",
    "   data <- read.csv(file=fname,head=TRUE,sep=\",\")\n",
    "   nr = dim(data)[1]\n",
    "   nc = dim(data)[2]\n",
    "   x = data[1:nr,1:(nc-1)]\n",
    "   y = data[1:nr,nc]\n",
    "   if (isTRUE(sc)) {\n",
    "      x = scale(x)\n",
    "      y = scale(y)\n",
    "   }\n",
    "   return (list(\"x\" = x, \"y\" = y))\n",
    "}"
   ]
  },
  {
   "cell_type": "code",
   "execution_count": 5,
   "metadata": {},
   "outputs": [],
   "source": [
    "# auxiliary function to calculate labels based on the estimated coefficients\n",
    "predict_func <- function(Phi, w){\n",
    "    return(Phi%*%w)\n",
    "} \n",
    "\n",
    "# auxiliary function to calculate the objective function for the training\n",
    "train_obj_func <- function (Phi, w, label, lambda){\n",
    "    # the L2 regulariser is already included in the objective function for training \n",
    "    return(mean((predict_func(Phi, w) - label)^2) + .5 * lambda * w %*% w)\n",
    "}"
   ]
  },
  {
   "cell_type": "code",
   "execution_count": 6,
   "metadata": {},
   "outputs": [],
   "source": [
    "##--- Stochastic Gradient Descent --------------------------------------------\n",
    "sgd_train <- function(train_x, train_y, lambda, eta, epsilon, max_epoch) {\n",
    "\n",
    "   train_len = dim(train_x)[1]\n",
    "   tau_max = max_epoch * train_len\n",
    "\n",
    "   W <- matrix(,nrow=tau_max, ncol=ncol(train_x)) \n",
    "   W[1,] <- runif(ncol(train_x))\n",
    "  \n",
    "   tau = 1 # counter \n",
    "   obj_func_val <-matrix(,nrow=tau_max, ncol=1) \n",
    "   obj_func_val[tau,1] = train_obj_func(train_x, W[tau,],train_y, lambda)\n",
    "\n",
    "   while (tau <= tau_max){\n",
    "\n",
    "       # check termination criteria\n",
    "       if (obj_func_val[tau,1]<=epsilon) {break}\n",
    " \n",
    "       # shuffle data:\n",
    "       train_index <- sample(1:train_len, train_len, replace = FALSE)\n",
    "    \n",
    "       # loop over each datapoint\n",
    "       for (i in train_index) {\n",
    "           # increment the counter\n",
    "           tau <- tau + 1\n",
    "           if (tau > tau_max) {break}\n",
    "\n",
    "           # make the weight update\n",
    "           y_pred <- predict_func(train_x[i,], W[tau-1,])\n",
    "           W[tau,] <- sgd_update_weight(W[tau-1,], train_x[i,], train_y[i], y_pred, lambda, eta)\n",
    "\n",
    "           # keep track of the objective funtion\n",
    "           obj_func_val[tau,1] = train_obj_func(train_x, W[tau,],train_y, lambda)\n",
    "       }\n",
    "   }\n",
    "   # resulting values for the training objective function as well as the weights\n",
    "   return(list('vals'=obj_func_val,'W'=W))\n",
    "}\n",
    "\n",
    "# updating the weight vector\n",
    "sgd_update_weight <- function(W_prev, x, y_true, y_pred, lambda, eta) {\n",
    "   grad = (- (y_true-y_pred) %*% x ) + lambda %*% W_prev\n",
    "   return(W_prev - eta %*% grad)\n",
    "}"
   ]
  },
  {
   "cell_type": "code",
   "execution_count": 7,
   "metadata": {},
   "outputs": [],
   "source": [
    "# Function to return the optimum values of W\n",
    "SGD_q7 <- function(lambda=0, train_x, train_y) {\n",
    " \n",
    "   ##### SGD Trainng\n",
    "   max_epoch = 20\n",
    "   epsilon = .001\n",
    "   eta = .01\n",
    "    \n",
    "   # Get the weights using the training dataset\n",
    "   train_res = sgd_train(train_x, train_y, lambda, eta, epsilon, max_epoch)\n",
    "\n",
    "   # Return the weights vector\n",
    "   return(train_res$W)\n",
    "\n",
    "}"
   ]
  },
  {
   "cell_type": "markdown",
   "metadata": {},
   "source": [
    "1. Load Task2B_train.csv and Task2B_test.csv sets."
   ]
  },
  {
   "cell_type": "code",
   "execution_count": 8,
   "metadata": {},
   "outputs": [],
   "source": [
    "## reading the data\n",
    "dtrain = read_data(\"Task2B_train.csv\", TRUE)\n",
    "dtest = read_data(\"Task2B_test.csv\", TRUE)\n",
    "\n",
    "# Length of train set\n",
    "N <- nrow(dtrain$x)"
   ]
  },
  {
   "cell_type": "markdown",
   "metadata": {},
   "source": [
    "2. Sample 50 sets from the provided training set, each of which having 100\n",
    "randomly selected data points (with replacement)."
   ]
  },
  {
   "cell_type": "code",
   "execution_count": 9,
   "metadata": {},
   "outputs": [],
   "source": [
    "# Create 50 datasets of size 100\n",
    "D = 100  # the number of samples in each selected dataset\n",
    "L = 50 # number of datasets \n",
    "\n",
    "# Boot function as implemented in the Q3\n",
    "boot <- function (original.size=100, sample.size=original.size, times=100){\n",
    "    indx <- matrix(nrow=times, ncol=sample.size)\n",
    "    for (t in 1:times){\n",
    "        indx[t, ] <- sample(x=original.size, size=sample.size, replace = TRUE)\n",
    "    }\n",
    "    return(indx)\n",
    "}\n",
    "\n",
    "# indices of 100 samples of 50 datasets\n",
    "boot.indx <- boot(N, 100, 50)"
   ]
  },
  {
   "cell_type": "markdown",
   "metadata": {},
   "source": [
    "3. For each lambda in {0, 0.2, 0.4, 0.6, ..., 5} do:\n",
    "<br>\n",
    "a. Build 50 regression models using the sampled sets\n",
    "<br>\n",
    "b. Based on the predictions of these models on the test set, calculate\n",
    "the (average) test error, variance, (bias) 2 , and variance + (bias) 2 .\n",
    "Plot the (average) test error, variance, (bias) 2 , and variance + (bias) 2\n",
    "versus log lambda, and include it in your Jupyter Notebook file for\n",
    "Question 7."
   ]
  },
  {
   "cell_type": "code",
   "execution_count": 10,
   "metadata": {},
   "outputs": [],
   "source": [
    "# Sequence of lambda {0, 0.2, 0.4, 0.6, ..., 5}\n",
    "lambda <- seq(from = 0, to = 5, by = 0.2)\n",
    "\n",
    "M <- length(lambda)"
   ]
  },
  {
   "cell_type": "markdown",
   "metadata": {},
   "source": [
    "Get the bias square, variance and average test error for each value of lambda and store them in a vector."
   ]
  },
  {
   "cell_type": "code",
   "execution_count": 11,
   "metadata": {},
   "outputs": [],
   "source": [
    "# Store the average test errors for 26 lambda values\n",
    "avg_test_error_c <- c()\n",
    "\n",
    "# Store the variance for 26 lambda values\n",
    "variance_c <- c()\n",
    "\n",
    "# Store the bias square for 26 lambda values\n",
    "bias2_c <- c()\n",
    "\n",
    "y_true <- dtest$y\n",
    "\n",
    "for (each in lambda){ # for each lambda\n",
    "    \n",
    "    # Dataframe to store all the predicted values of \"y\" for each lambda\n",
    "    y <- data.frame(matrix(0,nrow=L, ncol=N))\n",
    "    names(y) <- c(paste('y',1:(N), sep=''))\n",
    "    \n",
    "    # dataframe for variance\n",
    "    y_minus_ybar <- data.frame(matrix(0,nrow=L, ncol=N))\n",
    "    names(y) <- c(paste('y',1:(N), sep=''))\n",
    "    \n",
    "    # Vector to store the error for every dataset (L)\n",
    "    error_l <- c()\n",
    "    \n",
    "    for (l in 1:L){ # for each value of lambda...\n",
    "\n",
    "        train <- dtrain$x # train lables\n",
    "        test<- dtrain$y # output for train labels\n",
    "\n",
    "        indx <- boot.indx[l,]\n",
    "\n",
    "        # Get Ws using SGD\n",
    "        output <- SGD_q7(lambda=each, train[indx,], test[indx,])\n",
    "\n",
    "        # take the last values (optimum) of W \n",
    "        W = output[dim(output)[1],]\n",
    "        \n",
    "        # Predicted output\n",
    "        y_predicted <- predict_func(dtest$x, W)     \n",
    "        \n",
    "        #  square error of each data\n",
    "        error2 <- (y_predicted - y_true)^2\n",
    "        \n",
    "        # Vector to store the mean square errors for all the datasets\n",
    "        error_l <- c(error_l, mean(error2))\n",
    "\n",
    "        y[l,] <- y_predicted\n",
    "    }   \n",
    "\n",
    "    # Set the lambda values. Required for melting \"y\"\n",
    "    y['L'] = 1:L\n",
    "\n",
    "    # Y_BAR. Mean of y for each dataset L.Ignore the mean of Lambda\n",
    "    y_bar <- colMeans(y[, -(N+1)], na.rm = FALSE, dims = 1)\n",
    "\n",
    "    # AVERAGE TEST ERROR\n",
    "    avg_test_error <- mean(error_l)\n",
    "    avg_test_error_c <- c(avg_test_error_c, avg_test_error)\n",
    "\n",
    "    # BIAS SQUARE\n",
    "    bias2 <- mean((y_bar - y_true)^2)\n",
    "    bias2_c <- c(bias2_c, bias2)\n",
    "\n",
    "    ## Get the y labels corresponding to each y-output\n",
    "    y_labels <- names(y)\n",
    "    l <- head(1:length(y_labels), -1)\n",
    "    y_labels <- y_labels[l]\n",
    "\n",
    "\n",
    "    # Melt the y dataframe to get the value for each label for each L\n",
    "    y.m <- melt(y, id = \"L\")\n",
    "    names(y.m) <- c('L', 'Label', 'Value')\n",
    "\n",
    "    # Variance\n",
    "    for (lab in y_labels){    \n",
    "\n",
    "        # Just get the df where \"Label\" == lab\n",
    "        x <- y.m[y.m['Label'] == lab,]\n",
    "\n",
    "        # subtract average error from every y of the df\n",
    "        sub_ybar <- x[\"Value\"] - y_bar[lab]\n",
    "        y_minus_ybar[, lab] = sub_ybar^2\n",
    "\n",
    "    }\n",
    "    \n",
    "    # (1/L)*Sum(y-y_bar)^2\n",
    "    y_minus_ybar_L <- colMeans(y_minus_ybar, na.rm = FALSE, dims = 1)\n",
    "    \n",
    "     # (1/N)sum((1/L)*Sum(y-y_bar)^2)\n",
    "    variance <- mean(y_minus_ybar_L)\n",
    "    \n",
    "    # Combine all the variances\n",
    "    variance_c <- c(variance_c, variance)\n",
    "\n",
    "    \n",
    "}\n",
    "\n"
   ]
  },
  {
   "cell_type": "code",
   "execution_count": 12,
   "metadata": {},
   "outputs": [],
   "source": [
    "# create empty dataframe to store 'lambda', 'error', 'variance', 'bias2' and 'bias2variance'\n",
    "output <- data.frame(matrix(0,nrow=M, ncol=5))\n",
    "                \n",
    "names(output) <- c('lambda', 'error', 'variance', 'bias2', 'bias2variance')\n",
    "\n",
    "output$lambda <- lambda"
   ]
  },
  {
   "cell_type": "markdown",
   "metadata": {},
   "source": [
    "Store 'lambda', 'error', 'variance', 'bias2' and 'bias2variance' in the dataframe to analyze the results."
   ]
  },
  {
   "cell_type": "code",
   "execution_count": 13,
   "metadata": {},
   "outputs": [
    {
     "data": {
      "text/html": [
       "<table>\n",
       "<thead><tr><th scope=col>lambda</th><th scope=col>error</th><th scope=col>variance</th><th scope=col>bias2</th><th scope=col>bias2variance</th></tr></thead>\n",
       "<tbody>\n",
       "\t<tr><td>0.0         </td><td>0.01779494  </td><td>0.0009390678</td><td>0.01591681  </td><td>0.01685587  </td></tr>\n",
       "\t<tr><td>0.2         </td><td>0.02042369  </td><td>0.0004509838</td><td>0.01952172  </td><td>0.01997270  </td></tr>\n",
       "\t<tr><td>0.4         </td><td>0.02766430  </td><td>0.0004480702</td><td>0.02676816  </td><td>0.02721623  </td></tr>\n",
       "\t<tr><td>0.6         </td><td>0.03706988  </td><td>0.0005927057</td><td>0.03588447  </td><td>0.03647718  </td></tr>\n",
       "\t<tr><td>0.8         </td><td>0.04962182  </td><td>0.0005386246</td><td>0.04854457  </td><td>0.04908320  </td></tr>\n",
       "\t<tr><td>1.0         </td><td>0.06433390  </td><td>0.0012369661</td><td>0.06185997  </td><td>0.06309694  </td></tr>\n",
       "</tbody>\n",
       "</table>\n"
      ],
      "text/latex": [
       "\\begin{tabular}{r|lllll}\n",
       " lambda & error & variance & bias2 & bias2variance\\\\\n",
       "\\hline\n",
       "\t 0.0          & 0.01779494   & 0.0009390678 & 0.01591681   & 0.01685587  \\\\\n",
       "\t 0.2          & 0.02042369   & 0.0004509838 & 0.01952172   & 0.01997270  \\\\\n",
       "\t 0.4          & 0.02766430   & 0.0004480702 & 0.02676816   & 0.02721623  \\\\\n",
       "\t 0.6          & 0.03706988   & 0.0005927057 & 0.03588447   & 0.03647718  \\\\\n",
       "\t 0.8          & 0.04962182   & 0.0005386246 & 0.04854457   & 0.04908320  \\\\\n",
       "\t 1.0          & 0.06433390   & 0.0012369661 & 0.06185997   & 0.06309694  \\\\\n",
       "\\end{tabular}\n"
      ],
      "text/markdown": [
       "\n",
       "lambda | error | variance | bias2 | bias2variance | \n",
       "|---|---|---|---|---|---|\n",
       "| 0.0          | 0.01779494   | 0.0009390678 | 0.01591681   | 0.01685587   | \n",
       "| 0.2          | 0.02042369   | 0.0004509838 | 0.01952172   | 0.01997270   | \n",
       "| 0.4          | 0.02766430   | 0.0004480702 | 0.02676816   | 0.02721623   | \n",
       "| 0.6          | 0.03706988   | 0.0005927057 | 0.03588447   | 0.03647718   | \n",
       "| 0.8          | 0.04962182   | 0.0005386246 | 0.04854457   | 0.04908320   | \n",
       "| 1.0          | 0.06433390   | 0.0012369661 | 0.06185997   | 0.06309694   | \n",
       "\n",
       "\n"
      ],
      "text/plain": [
       "  lambda error      variance     bias2      bias2variance\n",
       "1 0.0    0.01779494 0.0009390678 0.01591681 0.01685587   \n",
       "2 0.2    0.02042369 0.0004509838 0.01952172 0.01997270   \n",
       "3 0.4    0.02766430 0.0004480702 0.02676816 0.02721623   \n",
       "4 0.6    0.03706988 0.0005927057 0.03588447 0.03647718   \n",
       "5 0.8    0.04962182 0.0005386246 0.04854457 0.04908320   \n",
       "6 1.0    0.06433390 0.0012369661 0.06185997 0.06309694   "
      ]
     },
     "metadata": {},
     "output_type": "display_data"
    }
   ],
   "source": [
    "# Store all the combined vectors\n",
    "output$error <- avg_test_error_c\n",
    "output$variance <- variance_c\n",
    "output$bias2 <- bias2_c\n",
    "output$bias2variance <- variance_c + bias2_c\n",
    "\n",
    "head(output)"
   ]
  },
  {
   "cell_type": "markdown",
   "metadata": {},
   "source": [
    "Perform bias-variance decomposition and verify the result average error = (bias^2 + variance) using visualization."
   ]
  },
  {
   "cell_type": "code",
   "execution_count": 14,
   "metadata": {},
   "outputs": [
    {
     "data": {},
     "metadata": {},
     "output_type": "display_data"
    },
    {
     "data": {
      "image/png": "[encoded data removed]",
      "text/plain": [
       "plot without title"
      ]
     },
     "metadata": {},
     "output_type": "display_data"
    }
   ],
   "source": [
    "# wrangle for visualization\n",
    "output.m <- melt(output, id='lambda')\n",
    "\n",
    "# Plot visualization\n",
    "ggplot(data=output.m, aes(x=log(lambda), y=value, color=variable)) + geom_line() + \n",
    "        labs(title='Bias-Variance Decomposition') +  theme_minimal()"
   ]
  },
  {
   "cell_type": "markdown",
   "metadata": {},
   "source": [
    "4. Based on your plot in the previous part (Part III), what’s the best value for lambda?\n",
    "\n",
    "**Answer**\n",
    "* The above graph showcases the relationship between average test error, square of biase and variance. The graph plots the values of average error, bias square and variance against the changing value of lambda {0,0.2,...,5.0}.\n",
    "* From the above plot, it can be verified that average error = (bias)^2 + variance\n",
    "* Since variance is almost constant for all the values of lambda, the least bias is observed for lambda = 0. However, the value is lambda in the range 0 to 0.8 yield very close results. Thus the optimum value of lambda lies between 0 to 0.8."
   ]
  }
 ],
 "metadata": {
  "kernelspec": {
   "display_name": "R",
   "language": "R",
   "name": "ir"
  },
  "language_info": {
   "codemirror_mode": "r",
   "file_extension": ".r",
   "mimetype": "text/x-r-source",
   "name": "R",
   "pygments_lexer": "r",
   "version": "3.5.1"
  }
 },
 "nbformat": 4,
 "nbformat_minor": 2
}
