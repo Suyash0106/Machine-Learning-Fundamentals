{
 "cells": [
  {
   "cell_type": "markdown",
   "metadata": {},
   "source": [
    "## Section F. Multiclass Perceptron\n",
    "\n",
    "In this section, you are asked to demonstrate your understanding of linear\n",
    "models for classification. You expand the binary-class perceptron algorithm that\n",
    "is covered in Activity 1 of Module 3 into a multiclass classifier."
   ]
  },
  {
   "cell_type": "markdown",
   "metadata": {},
   "source": [
    "### Question 8 [Multiclass Perceptron, 25 Marks]\n",
    "\n",
    "1. Load Task2C_train.csv and Task2C_test.csv sets."
   ]
  },
  {
   "cell_type": "code",
   "execution_count": 1,
   "metadata": {},
   "outputs": [
    {
     "name": "stderr",
     "output_type": "stream",
     "text": [
      "Warning message:\n",
      "\"package 'reshape2' was built under R version 3.5.3\"Warning message:\n",
      "\"package 'ggplot2' was built under R version 3.5.3\""
     ]
    }
   ],
   "source": [
    "# Load the libraries for wrangling and plotting data\n",
    "library(reshape2)\n",
    "library(ggplot2)"
   ]
  },
  {
   "cell_type": "code",
   "execution_count": 2,
   "metadata": {},
   "outputs": [],
   "source": [
    "# Load the train and the test set\n",
    "train <- read.csv(\"Task2C_train.csv\")\n",
    "test <- read.csv(\"Task2C_test.csv\")\n",
    "\n",
    "# Get the train length and the test length\n",
    "train.len <- nrow(train)\n",
    "test.len <- nrow(test)\n",
    "\n",
    "# Split the data into input values and corresponding labels\n",
    "train.data <- train[, c(1,2,3,4)]\n",
    "train.label <- train[, 5]\n",
    "\n",
    "test.data <- test[, c(1,2,3,4)]\n",
    "test.label <- test[, 5]"
   ]
  },
  {
   "cell_type": "markdown",
   "metadata": {},
   "source": [
    "2. Implement the multiclass perceptron as explained above. Please provide enough comments for your code in your submission."
   ]
  },
  {
   "cell_type": "code",
   "execution_count": 3,
   "metadata": {},
   "outputs": [],
   "source": [
    "## Basis function for train data\n",
    "Phi <- as.matrix(cbind(1, train.data)) # add a column of 1 as phi_0\n",
    "\n",
    "## Basis function for test data\n",
    "Phi_test <- as.matrix(cbind(1, test.data)) # add a column of 1 as phi_0"
   ]
  },
  {
   "cell_type": "markdown",
   "metadata": {},
   "source": [
    "Initialise the weight vectors randomly w1 ,.. ,wK"
   ]
  },
  {
   "cell_type": "code",
   "execution_count": 4,
   "metadata": {},
   "outputs": [],
   "source": [
    "# Initialization\n",
    "\n",
    "set.seed(123)\n",
    "\n",
    "# class labels\n",
    "c0 <- 1\n",
    "c1 <- -1 \n",
    "\n",
    "# Learning rate\n",
    "eta <- 0.1 \n",
    "\n",
    "# Stoping criterion\n",
    "epsilon <- 0.001 \n",
    "\n",
    "# Maximum number of iterations\n",
    "tau.max <- 200\n",
    "\n",
    "# iteration counter \n",
    "tau <- 1 \n",
    "\n",
    "# termination status\n",
    "terminate <- FALSE \n",
    "\n",
    "# Convention for class labels\n",
    "T_train <- ifelse(train.label=='C1', 1,\n",
    "          ifelse(train.label == 'C2', 2, 3)\n",
    "       )\n",
    "\n",
    "T_test <- ifelse(test.label=='C1', 1,\n",
    "          ifelse(test.label == 'C2', 2, 3)\n",
    "       )\n",
    "\n",
    "# Empty Weight vector for classes C1, C2 and C3\n",
    "W <- matrix(,nrow=3, ncol=ncol(Phi)) # Empty Weight vector\n",
    "\n",
    "# Random initial values for weight vector\n",
    "W[1,] <- runif(ncol(Phi)) # Random initial values for weight vector\n",
    "W[2,] <- runif(ncol(Phi)) # Random initial values for weight vector\n",
    "W[3,] <- runif(ncol(Phi)) # Random initial values for weight vector\n",
    "\n",
    "# Matrix to store the batch and corresponding error \n",
    "error_matrix = data.frame(matrix(ncol = 2, nrow = 0))"
   ]
  },
  {
   "cell_type": "markdown",
   "metadata": {},
   "source": [
    "**While not converged do:**\n",
    "\n",
    "**For n in (1:N):**\n",
    "<br>\n",
    "\n",
    "y_predicted = max(W1.X, W2.X, W3.X)\n",
    "<br>\n",
    "\n",
    "If y_predicted != y_true:\n",
    "<br>\n",
    "\n",
    " * Increment the weight corresponding to true value (y_true)\n",
    " * Whereas, decrement the weight corresponding to predicted value (y_predicted)\n",
    " \n",
    "Else:\n",
    "<br>\n",
    "\n",
    " * Don't change the weight parameters\n",
    " \n",
    " \n",
    "**Note:** The same dataframe is used to store W1, W2 and W3.It stores the optimum values of W.\n",
    "    "
   ]
  },
  {
   "cell_type": "code",
   "execution_count": 5,
   "metadata": {},
   "outputs": [],
   "source": [
    "# Main Loop \n",
    "while(!terminate){\n",
    "    \n",
    "    # resuffling train data and associated labels:\n",
    "    train.index <- sample(1:train.len, replace = FALSE)\n",
    "    Phi <- Phi[train.index,]\n",
    "    T_train <- T_train[train.index]\n",
    "    \n",
    "    # resuffling test data and associated labels:\n",
    "    test.index <- sample(1:test.len, replace = FALSE)\n",
    "    Phi_test <- Phi_test[test.index,]\n",
    "    T_test <- T_test[test.index]\n",
    "    \n",
    "    \n",
    "    for (i in 1:train.len){\n",
    "        \n",
    "        # Stopping condition\n",
    "        if (tau == tau.max) {break}\n",
    "        \n",
    "        # Take the max of each weights\n",
    "        arg_max <- c(Phi[1,]%*%W[1,],Phi[1,]%*%W[2,],Phi[1,]%*%W[3,])\n",
    "        y_predicted <- which.max(arg_max)\n",
    "        \n",
    "        # Increment the counter\n",
    "        tau <- tau +1\n",
    "        \n",
    "        # Predicted value is 1\n",
    "        if (y_predicted == \"1\"){\n",
    "            \n",
    "            # If predicted value == true value ==1, don't update weights.\n",
    "            if(T_train[i] == \"1\"){        \n",
    "\n",
    "                W[1,] <- W[1,]\n",
    "                W[2,] <- W[2,]\n",
    "                W[3,] <- W[3,]    \n",
    "\n",
    "            }\n",
    "            \n",
    "            # If predicted value == 1 and true value == 2, decrease weight of 1 and increase weight of 2\n",
    "            else if(T_train[i] == \"2\"){\n",
    "\n",
    "                W[1,] <- W[1,] - eta * (Phi[i,])\n",
    "                W[2,] <- W[2,] + eta * (Phi[i,])\n",
    "                W[3,] <- W[3,] \n",
    "\n",
    "            }\n",
    "                # If predicted value == 1 and true value == 3, decrease weight of 1 and increase weight of 3\n",
    "                else{\n",
    "\n",
    "                W[1,] <- W[1,] - eta * (Phi[i,])\n",
    "                W[2,] <- W[2,] \n",
    "                W[3,] <- W[3,] + eta * (Phi[i,])\n",
    "            }\n",
    "\n",
    "        }\n",
    "        \n",
    "        else if (y_predicted == \"2\"){\n",
    "            \n",
    "            # If predicted value == 2 and true value == 1, decrease weight of 2 and increase weight of 1\n",
    "            if(T_train[i] == \"1\"){\n",
    "\n",
    "                W[1,] <- W[1,] + eta * (Phi[i,])\n",
    "                W[2,] <- W[2,] - eta * (Phi[i,])\n",
    "                W[3,] <- W[3,] \n",
    "\n",
    "            }\n",
    "            \n",
    "            # If predicted value == 2 and true value == 2,  don't update weights.\n",
    "            else if(T_train[i] == \"2\"){\n",
    "\n",
    "                W[1,] <- W[1,]\n",
    "                W[2,] <- W[2,]\n",
    "                W[3,] <- W[3,]\n",
    "\n",
    "            }\n",
    "                # If predicted value == 2 and true value == 3, decrease weight of 2 and increase weight of 3\n",
    "                else{\n",
    "\n",
    "                W[1,] <- W[1,] \n",
    "                W[2,] <- W[2,] - eta * (Phi[i,])\n",
    "                W[3,] <- W[3,] + eta * (Phi[i,])\n",
    "            }\n",
    "\n",
    "        }else{\n",
    "            \n",
    "            # If predicted value == 3 and true value == 1, decrease weight of 3 and increase weight of 1\n",
    "            if(T_train[i] == \"1\"){\n",
    "\n",
    "                W[1,] <- W[1,] + eta * (Phi[i,])\n",
    "                W[2,] <- W[2,] \n",
    "                W[3,] <- W[3,] - eta * (Phi[i,])\n",
    "\n",
    "            }\n",
    "            \n",
    "            # If predicted value == 3 and true value == 2, decrease weight of 3 and increase weight of 2\n",
    "            else if(T_train[i] == \"2\"){\n",
    "                W[1,] <- W[1,] \n",
    "                W[2,] <- W[2,] + eta * (Phi[i,])\n",
    "                W[3,] <- W[3,] - eta * (Phi[i,])\n",
    "            }\n",
    "                # If predicted value == 3 and true value == 3,  don't update weights.\n",
    "                else{\n",
    "                W[1,] <- W[1,]\n",
    "                W[2,] <- W[2,]\n",
    "                W[3,] <- W[3,]\n",
    "            }\n",
    "        }\n",
    "    \n",
    "        # Evaluate error on the test set after processing every 5 batches\n",
    "        if(i%%5 == 0){\n",
    "            \n",
    "            # Initialize error to 0\n",
    "            error = 0\n",
    "            \n",
    "            # for each index in the test set\n",
    "            for (j in 1:test.len){\n",
    "                \n",
    "                # Predict the y labels using optimum weights\n",
    "                y_test <- c(Phi_test[j,]%*%W[1,],Phi_test[j,]%*%W[2,],Phi_test[j,]%*%W[3,])\n",
    "                y_pred_test <- which.max(y_test)\n",
    "                \n",
    "                # Increment the error if incorrect prediction\n",
    "                if(y_pred_test != T_test[j]){\n",
    "                   error = error + 1 \n",
    "                }\n",
    "                \n",
    "            }\n",
    "            \n",
    "            # Calculate the error after every 5 data points\n",
    "            error_val <- error/test.len*100\n",
    "            \n",
    "            # Combine error with corresponding batch\n",
    "            error_c <- c(tau%/%5,error_val)\n",
    "            error_matrix <- rbind(error_matrix,error_c)\n",
    "        }\n",
    "        \n",
    "              \n",
    "               \n",
    "    }\n",
    "    \n",
    "    \n",
    "    # termination condition\n",
    "    terminate <- tau >= tau.max \n",
    "}"
   ]
  },
  {
   "cell_type": "code",
   "execution_count": 6,
   "metadata": {},
   "outputs": [
    {
     "data": {
      "text/html": [
       "<table>\n",
       "<thead><tr><th></th><th scope=col>Batch</th><th scope=col>Error</th></tr></thead>\n",
       "<tbody>\n",
       "\t<tr><th scope=row>34</th><td>34      </td><td>36.00000</td></tr>\n",
       "\t<tr><th scope=row>35</th><td>35      </td><td>50.66667</td></tr>\n",
       "\t<tr><th scope=row>36</th><td>36      </td><td>33.33333</td></tr>\n",
       "\t<tr><th scope=row>37</th><td>37      </td><td>33.33333</td></tr>\n",
       "\t<tr><th scope=row>38</th><td>38      </td><td>33.33333</td></tr>\n",
       "\t<tr><th scope=row>39</th><td>39      </td><td>25.33333</td></tr>\n",
       "</tbody>\n",
       "</table>\n"
      ],
      "text/latex": [
       "\\begin{tabular}{r|ll}\n",
       "  & Batch & Error\\\\\n",
       "\\hline\n",
       "\t34 & 34       & 36.00000\\\\\n",
       "\t35 & 35       & 50.66667\\\\\n",
       "\t36 & 36       & 33.33333\\\\\n",
       "\t37 & 37       & 33.33333\\\\\n",
       "\t38 & 38       & 33.33333\\\\\n",
       "\t39 & 39       & 25.33333\\\\\n",
       "\\end{tabular}\n"
      ],
      "text/markdown": [
       "\n",
       "| <!--/--> | Batch | Error | \n",
       "|---|---|---|---|---|---|\n",
       "| 34 | 34       | 36.00000 | \n",
       "| 35 | 35       | 50.66667 | \n",
       "| 36 | 36       | 33.33333 | \n",
       "| 37 | 37       | 33.33333 | \n",
       "| 38 | 38       | 33.33333 | \n",
       "| 39 | 39       | 25.33333 | \n",
       "\n",
       "\n"
      ],
      "text/plain": [
       "   Batch Error   \n",
       "34 34    36.00000\n",
       "35 35    50.66667\n",
       "36 36    33.33333\n",
       "37 37    33.33333\n",
       "38 38    33.33333\n",
       "39 39    25.33333"
      ]
     },
     "metadata": {},
     "output_type": "display_data"
    }
   ],
   "source": [
    "# Check the error generated by each batch\n",
    "col_names <- c(\"Batch\", \"Error\")\n",
    "names(error_matrix) <- col_names\n",
    "\n",
    "# Just to verify\n",
    "tail(error_matrix)"
   ]
  },
  {
   "cell_type": "code",
   "execution_count": 7,
   "metadata": {},
   "outputs": [
    {
     "data": {},
     "metadata": {},
     "output_type": "display_data"
    },
    {
     "data": {
      "image/png": "[encoded data removed]",
      "text/plain": [
       "plot without title"
      ]
     },
     "metadata": {},
     "output_type": "display_data"
    }
   ],
   "source": [
    "#Error of the test data vs no. of mini-batches\n",
    "ggplot(data=error_matrix,aes(x=Batch, y=Error)) + geom_line() + geom_point(shape=21, fill='green')  +\n",
    "    ggtitle('Training error vs. Batches') + theme_minimal()"
   ]
  },
  {
   "cell_type": "markdown",
   "metadata": {},
   "source": [
    "4. Suppose we did not want to use multiclass Perceptron, and instead would be interested to use the one-versus-one approach to solve the multi-class classification problem (Chapter 2 in Module 3). The idea is to build K(K− 1)/2 classifiers for each possible pair of classes where K is the number of classes. Each point is then classified according to a majority vote among the discriminant functions.\n",
    "\n",
    "a. Train your K(K-1)/2 perceptron binary classifiers using thetraining data."
   ]
  },
  {
   "cell_type": "code",
   "execution_count": 8,
   "metadata": {},
   "outputs": [
    {
     "name": "stdout",
     "output_type": "stream",
     "text": [
      "Number of classifiers: 3"
     ]
    }
   ],
   "source": [
    "# Just to verify the number of classifiers\n",
    "labels = levels(train.label)\n",
    "k = length(labels)\n",
    "classifiers = k*(k-1)/2\n",
    "cat(\"Number of classifiers:\",classifiers)"
   ]
  },
  {
   "cell_type": "code",
   "execution_count": 9,
   "metadata": {},
   "outputs": [],
   "source": [
    "# Datasets for each class C1, C2 and C3\n",
    "train_C1C2 = train[train['y'] != \"C3\",]\n",
    "train_C1C3 = train[train['y'] != \"C2\",]\n",
    "train_C2C3 = train[train['y'] != \"C1\",]\n",
    "\n",
    "# Class C1\n",
    "train.len_C1C2 <- nrow(train_C1C2)\n",
    "train.data_C1C2 <- train_C1C2[, c(1,2,3,4)]\n",
    "train.label_C1C2 <- train_C1C2[, 5]\n",
    "\n",
    "# Class C2\n",
    "train.len_C1C3 <- nrow(train_C1C3)\n",
    "train.data_C1C3 <- train_C1C3[, c(1,2,3,4)]\n",
    "train.label_C1C3 <- train_C1C3[, 5]\n",
    "\n",
    "# Class C3\n",
    "train.len_C2C3 <- nrow(train_C2C3)\n",
    "train.data_C2C3 <- train_C2C3[, c(1,2,3,4)]\n",
    "train.label_C2C3 <- train_C2C3[, 5]"
   ]
  },
  {
   "cell_type": "markdown",
   "metadata": {},
   "source": [
    "**Classifier for C1 and C2**"
   ]
  },
  {
   "cell_type": "code",
   "execution_count": 10,
   "metadata": {},
   "outputs": [],
   "source": [
    "## Basis function for class C1 and C2\n",
    "Phi_C1C2 <- as.matrix(cbind(1, train.data_C1C2)) # add a column of 1 as phi_0\n",
    "\n",
    "# Maximum iterations\n",
    "tau.max <- 2\n",
    "\n",
    "# Convention for class labels for C1 and C2\n",
    "T_C1C2 <- ifelse(train.label_C1C2 == \"C1\", eval(parse(text=c0)), eval(parse(text=c1))) \n",
    "\n",
    "# Empty Weight vector for C1 and C2\n",
    "W_C1C2 <- matrix(,nrow=tau.max, ncol=ncol(Phi_C1C2)) \n",
    "\n",
    "# Random initial values for weight vector\n",
    "W_C1C2[1,] <- runif(ncol(Phi_C1C2)) \n",
    "\n",
    "tau <- 1 # iteration counter \n",
    "terminate <- FALSE # termination status\n",
    "\n",
    "# Learning rate\n",
    "eta <- 0.1 "
   ]
  },
  {
   "cell_type": "code",
   "execution_count": 11,
   "metadata": {},
   "outputs": [],
   "source": [
    "# Main Loop (Step 2):\n",
    "while(!terminate){\n",
    "    # resuffling train data and associated labels:\n",
    "    train.index <- sample(1:train.len_C1C2, replace = FALSE)\n",
    "    Phi <- Phi_C1C2[train.index,]\n",
    "    T <- T_C1C2[train.index]\n",
    "\n",
    "    for (i in 1:train.len_C1C2){\n",
    "        if (tau == tau.max) {break}\n",
    "              \n",
    "        # look for missclassified samples\n",
    "        if ((W_C1C2[tau,]%*%Phi[i,])*T[i]<0){\n",
    "            \n",
    "            # update tau counter\n",
    "            tau <- tau +1\n",
    "            \n",
    "            # update the weights\n",
    "            W_C1C2[tau,] <- W_C1C2[tau-1,] + eta * Phi[i,] * T[i]\n",
    "            \n",
    "            # update the records\n",
    "            #error.trace_C1C2[tau] <- sum((Phi%*%W[tau,])*T<0)/train.len*100\n",
    "        } \n",
    "        \n",
    "    }\n",
    "    \n",
    "    # decrease eta:\n",
    "    eta = eta * 0.99\n",
    "    # recalculate termination conditions\n",
    "    terminate <- tau >= tau.max | \n",
    "        abs(sum((Phi%*%W_C1C2[tau,])*T<0)/train.len_C1C2 - sum((Phi%*%W_C1C2[tau-1,])*T<0)/train.len_C1C2) <= epsilon \n",
    "    \n",
    "}\n",
    "\n",
    "W_C1C2 <- W_C1C2[1:tau,] # cut the empty part of the matrix (when the loop stops before tau == tau.max)"
   ]
  },
  {
   "cell_type": "code",
   "execution_count": 12,
   "metadata": {},
   "outputs": [
    {
     "data": {
      "text/html": [
       "<ol class=list-inline>\n",
       "\t<li>0.17077801944688</li>\n",
       "\t<li>-0.319903079606593</li>\n",
       "\t<li>0.451207831492648</li>\n",
       "\t<li>-0.0971476003713906</li>\n",
       "\t<li>0.700398066183552</li>\n",
       "</ol>\n"
      ],
      "text/latex": [
       "\\begin{enumerate*}\n",
       "\\item 0.17077801944688\n",
       "\\item -0.319903079606593\n",
       "\\item 0.451207831492648\n",
       "\\item -0.0971476003713906\n",
       "\\item 0.700398066183552\n",
       "\\end{enumerate*}\n"
      ],
      "text/markdown": [
       "1. 0.17077801944688\n",
       "2. -0.319903079606593\n",
       "3. 0.451207831492648\n",
       "4. -0.0971476003713906\n",
       "5. 0.700398066183552\n",
       "\n",
       "\n"
      ],
      "text/plain": [
       "[1]  0.1707780 -0.3199031  0.4512078 -0.0971476  0.7003981"
      ]
     },
     "metadata": {},
     "output_type": "display_data"
    }
   ],
   "source": [
    "# get the optimum weight parameters\n",
    "w_C1C2 <- W_C1C2[tau,]\n",
    "w_C1C2"
   ]
  },
  {
   "cell_type": "markdown",
   "metadata": {},
   "source": [
    "**Classifier for C1 and C3**"
   ]
  },
  {
   "cell_type": "code",
   "execution_count": 13,
   "metadata": {},
   "outputs": [],
   "source": [
    "## Basis function for class C1 and C3\n",
    "Phi_C1C3 <- as.matrix(cbind(1, train.data_C1C3)) # add a column of 1 as phi_0\n",
    "\n",
    "# Maximum number of iterations\n",
    "tau.max <- 2\n",
    "\n",
    "# Convention for class labels for C1 and C3\n",
    "T_C1C3 <- ifelse(train.label_C1C3 == \"C1\", eval(parse(text=c0)), eval(parse(text=c1))) \n",
    "\n",
    "# Empty Weight vector for C1 and C3\n",
    "W_C1C3 <- matrix(,nrow=tau.max, ncol=ncol(Phi_C1C3))\n",
    "\n",
    "# Random initial values for weight vector\n",
    "W_C1C3[1,] <- runif(ncol(Phi_C1C3)) \n",
    "\n",
    "tau <- 1 # iteration counter \n",
    "terminate <- FALSE # termination status\n",
    "\n",
    "# Learning rate\n",
    "eta <- 0.1 "
   ]
  },
  {
   "cell_type": "code",
   "execution_count": 14,
   "metadata": {},
   "outputs": [],
   "source": [
    "# Main Loop (Step 2):\n",
    "while(!terminate){\n",
    "    # resuffling train data and associated labels:\n",
    "    train.index <- sample(1:train.len_C1C3, replace = FALSE)\n",
    "    Phi <- Phi_C1C3[train.index,]\n",
    "    T <- T_C1C3[train.index]\n",
    "\n",
    "    for (i in 1:train.len_C1C3){\n",
    "        if (tau == tau.max) {break}\n",
    "              \n",
    "        # look for missclassified samples\n",
    "        if ((W_C1C3[tau,]%*%Phi[i,])*T[i]<0){\n",
    "            \n",
    "            # update tau counter\n",
    "            tau <- tau +1\n",
    "            \n",
    "            # update the weights\n",
    "            W_C1C3[tau,] <- W_C1C3[tau-1,] + eta * Phi[i,] * T[i]\n",
    "        } \n",
    "        \n",
    "    }\n",
    "    \n",
    "    # decrease eta:\n",
    "    eta = eta * 0.99\n",
    "    # recalculate termination conditions\n",
    "    terminate <- tau >= tau.max | \n",
    "        abs(sum((Phi%*%W_C1C3[tau,])*T<0)/train.len_C1C3 - sum((Phi%*%W_C1C3[tau-1,])*T<0)/train.len_C1C3) <= epsilon \n",
    "    \n",
    "}\n",
    "\n",
    "W_C1C3 <- W_C1C3[1:tau,] # cut the empty part of the matrix (when the loop stops before tau == tau.max)"
   ]
  },
  {
   "cell_type": "code",
   "execution_count": 15,
   "metadata": {},
   "outputs": [
    {
     "data": {
      "text/html": [
       "<ol class=list-inline>\n",
       "\t<li>0.201142524462193</li>\n",
       "\t<li>-0.285328972013667</li>\n",
       "\t<li>0.012112791929394</li>\n",
       "\t<li>-0.512630035122857</li>\n",
       "\t<li>0.33880492339842</li>\n",
       "</ol>\n"
      ],
      "text/latex": [
       "\\begin{enumerate*}\n",
       "\\item 0.201142524462193\n",
       "\\item -0.285328972013667\n",
       "\\item 0.012112791929394\n",
       "\\item -0.512630035122857\n",
       "\\item 0.33880492339842\n",
       "\\end{enumerate*}\n"
      ],
      "text/markdown": [
       "1. 0.201142524462193\n",
       "2. -0.285328972013667\n",
       "3. 0.012112791929394\n",
       "4. -0.512630035122857\n",
       "5. 0.33880492339842\n",
       "\n",
       "\n"
      ],
      "text/plain": [
       "[1]  0.20114252 -0.28532897  0.01211279 -0.51263004  0.33880492"
      ]
     },
     "metadata": {},
     "output_type": "display_data"
    }
   ],
   "source": [
    "# get the optimum weight parameters\n",
    "w_C1C3 <- W_C1C3[tau,]\n",
    "w_C1C3"
   ]
  },
  {
   "cell_type": "markdown",
   "metadata": {},
   "source": [
    "**Classifier for C2 and C3**"
   ]
  },
  {
   "cell_type": "code",
   "execution_count": 16,
   "metadata": {},
   "outputs": [],
   "source": [
    "## Basis function for class C2 and C2\n",
    "Phi_C2C3 <- as.matrix(cbind(1, train.data_C2C3)) # add a column of 1 as phi_0\n",
    "\n",
    "# Maximum number of iterations\n",
    "tau.max <- 2\n",
    "\n",
    "# Convention for class labels for C2 and C3\n",
    "T_C2C3 <- ifelse(train.label_C2C3 == \"C2\", eval(parse(text=c0)), eval(parse(text=c1))) \n",
    "\n",
    "# Empty Weight vector for C2 and C3\n",
    "W_C2C3 <- matrix(,nrow=tau.max, ncol=ncol(Phi_C2C3)) \n",
    "W_C2C3[1,] <- runif(ncol(Phi_C2C3)) # Random initial values for weight vector\n",
    "\n",
    "tau <- 1 # iteration counter \n",
    "terminate <- FALSE # termination status\n",
    "\n",
    "# Learning rate\n",
    "eta <- 0.1 "
   ]
  },
  {
   "cell_type": "code",
   "execution_count": 17,
   "metadata": {},
   "outputs": [],
   "source": [
    "# Main Loop (Step 2):\n",
    "while(!terminate){\n",
    "    # resuffling train data and associated labels:\n",
    "    train.index <- sample(1:train.len_C2C3, replace = FALSE)\n",
    "    Phi <- Phi_C2C3[train.index,]\n",
    "    T <- T_C2C3[train.index]\n",
    "\n",
    "    for (i in 1:train.len_C2C3){\n",
    "        if (tau == tau.max) {break}\n",
    "              \n",
    "        # look for missclassified samples\n",
    "        if ((W_C2C3[tau,]%*%Phi[i,])*T[i]<0){\n",
    "            \n",
    "            # update tau counter\n",
    "            tau <- tau +1\n",
    "            \n",
    "            # update the weights\n",
    "            W_C2C3[tau,] <- W_C2C3[tau-1,] + eta * Phi[i,] * T[i]\n",
    "        } \n",
    "        \n",
    "    }\n",
    "    \n",
    "    # decrease eta:\n",
    "    eta = eta * 0.99\n",
    "    # recalculate termination conditions\n",
    "    terminate <- tau >= tau.max | \n",
    "        abs(sum((Phi%*%W_C2C3[tau,])*T<0)/train.len_C2C3 - sum((Phi%*%W_C2C3[tau-1,])*T<0)/train.len_C2C3) <= epsilon \n",
    "    \n",
    "}\n",
    "\n",
    "# cut the empty part of the matrix (when the loop stops before tau == tau.max)\n",
    "W_C2C3 <- W_C2C3[1:tau,] "
   ]
  },
  {
   "cell_type": "code",
   "execution_count": 18,
   "metadata": {},
   "outputs": [],
   "source": [
    "# get the optimum weight parameters\n",
    "w_C2C3 <- W_C2C3[tau,]"
   ]
  },
  {
   "cell_type": "markdown",
   "metadata": {},
   "source": [
    "b. Predict the labels of the data points in the test set. Whenever there is a tie between two or more labels for a data point, call it a confusion event."
   ]
  },
  {
   "cell_type": "code",
   "execution_count": 19,
   "metadata": {},
   "outputs": [],
   "source": [
    "# Labels to store predicions of each classifies\n",
    "y_C1C2_label <- c()\n",
    "y_C1C3_label <- c()\n",
    "y_C2C3_label <- c()\n",
    "\n",
    "# Set testlabels of C1 as +1 and C2, C3 as -1\n",
    "T_Test_C1C2 <- ifelse(test.label == \"C1\", eval(parse(text=c0)), eval(parse(text=c1)))\n",
    "\n",
    "# Set testlabels of C1 as +1 and C2, C3 as -1 resp\n",
    "T_Test_C1C3 <- ifelse(test.label == \"C2\", eval(parse(text=c0)), eval(parse(text=c1)))\n",
    "\n",
    "# Set testlabels of C2 as +1 and C1, C3 as -1 resp\n",
    "T_Test_C2C3 <- ifelse(test.label == \"C3\", eval(parse(text=c0)), eval(parse(text=c1)))\n",
    "\n",
    "# for each index in the test set\n",
    "for (j in 1:test.len){\n",
    "\n",
    "    # Predict the y labels using optimum weights of W_C1C2\n",
    "    y_C1C2 <- (Phi_test[j,]%*%w_C1C2) * T_Test_C1C2[j]  \n",
    "    \n",
    "    if (y_C1C2 > 0){\n",
    "        y_C1C2_label <- c(y_C1C2_label, \"C1\")\n",
    "    }\n",
    "    else{\n",
    "        y_C1C2_label <- c(y_C1C2_label, \"C2\")\n",
    "    }\n",
    "    \n",
    "    # Predict the y labels using optimum weights of W_C1C3\n",
    "    y_C1C3 <- (Phi_test[j,]%*%w_C1C3) * T_Test_C1C3[j]  \n",
    "    \n",
    "    if (y_C1C3 > 0){\n",
    "        y_C1C3_label <- c(y_C1C3_label, \"C1\")\n",
    "    }\n",
    "    else{\n",
    "        y_C1C3_label <- c(y_C1C3_label, \"C3\")\n",
    "    }\n",
    "    \n",
    "    # Predict the y labels using optimum weights of W_C2C3\n",
    "    y_C2C3 <- (Phi_test[j,]%*%w_C2C3) * T_Test_C2C3[j]  \n",
    "    \n",
    "    if (y_C2C3 > 0){\n",
    "        y_C2C3_label <- c(y_C2C3_label, \"C2\")\n",
    "    }\n",
    "    else{\n",
    "        y_C2C3_label <- c(y_C2C3_label, \"C3\")\n",
    "    }\n",
    "    \n",
    "}"
   ]
  },
  {
   "cell_type": "code",
   "execution_count": 20,
   "metadata": {},
   "outputs": [
    {
     "data": {
      "text/html": [
       "<table>\n",
       "<thead><tr><th scope=col>Index</th><th scope=col>W_C1C2</th><th scope=col>W_C1C3</th><th scope=col>W_C2C3</th></tr></thead>\n",
       "<tbody>\n",
       "\t<tr><td>1 </td><td>C2</td><td>C1</td><td>C2</td></tr>\n",
       "\t<tr><td>2 </td><td>C1</td><td>C1</td><td>C2</td></tr>\n",
       "\t<tr><td>3 </td><td>C1</td><td>C1</td><td>C2</td></tr>\n",
       "\t<tr><td>4 </td><td>C1</td><td>C1</td><td>C2</td></tr>\n",
       "\t<tr><td>5 </td><td>C2</td><td>C1</td><td>C2</td></tr>\n",
       "\t<tr><td>6 </td><td>C2</td><td>C1</td><td>C2</td></tr>\n",
       "</tbody>\n",
       "</table>\n"
      ],
      "text/latex": [
       "\\begin{tabular}{r|llll}\n",
       " Index & W\\_C1C2 & W\\_C1C3 & W\\_C2C3\\\\\n",
       "\\hline\n",
       "\t 1  & C2 & C1 & C2\\\\\n",
       "\t 2  & C1 & C1 & C2\\\\\n",
       "\t 3  & C1 & C1 & C2\\\\\n",
       "\t 4  & C1 & C1 & C2\\\\\n",
       "\t 5  & C2 & C1 & C2\\\\\n",
       "\t 6  & C2 & C1 & C2\\\\\n",
       "\\end{tabular}\n"
      ],
      "text/markdown": [
       "\n",
       "Index | W_C1C2 | W_C1C3 | W_C2C3 | \n",
       "|---|---|---|---|---|---|\n",
       "| 1  | C2 | C1 | C2 | \n",
       "| 2  | C1 | C1 | C2 | \n",
       "| 3  | C1 | C1 | C2 | \n",
       "| 4  | C1 | C1 | C2 | \n",
       "| 5  | C2 | C1 | C2 | \n",
       "| 6  | C2 | C1 | C2 | \n",
       "\n",
       "\n"
      ],
      "text/plain": [
       "  Index W_C1C2 W_C1C3 W_C2C3\n",
       "1 1     C2     C1     C2    \n",
       "2 2     C1     C1     C2    \n",
       "3 3     C1     C1     C2    \n",
       "4 4     C1     C1     C2    \n",
       "5 5     C2     C1     C2    \n",
       "6 6     C2     C1     C2    "
      ]
     },
     "metadata": {},
     "output_type": "display_data"
    }
   ],
   "source": [
    "# dataframe to store the predictions of each class\n",
    "out <- data.frame('Index'= 1:test.len,'W_C1C2'=y_C1C2_label, 'W_C1C3' = y_C1C3_label, 'W_C2C3' = y_C2C3_label)\n",
    "head(out)"
   ]
  },
  {
   "cell_type": "markdown",
   "metadata": {},
   "source": [
    "For each row in the *out* dataframe, if any two labels are same, store the predicted output as the label"
   ]
  },
  {
   "cell_type": "code",
   "execution_count": 21,
   "metadata": {},
   "outputs": [],
   "source": [
    "# For every predicted output, check whether any 2 predictions are the same\n",
    "for (i in 1:length(y_C1C2_label)){\n",
    "    \n",
    "    # Set the predicted label as label of any two columns having the same value\n",
    "    \n",
    "    if (y_C1C2_label[i] == y_C1C3_label[i]) {out[i,\"Predicted Label\"] = y_C1C2_label[i]}\n",
    "        \n",
    "    else if (y_C1C3_label[i] == y_C2C3_label[i]) {out[i,\"Predicted Label\"] = y_C1C3_label[i]}\n",
    "        \n",
    "    else if (y_C1C2_label[i] == y_C2C3_label[i]) {out[i,\"Predicted Label\"] = y_C1C2_label[i]}\n",
    "    \n",
    "    # If none of the elements are same, set the predicted output as confusion\n",
    "    else {out[i,\"Predicted Label\"] = \"Confusion\"}\n",
    "}"
   ]
  },
  {
   "cell_type": "code",
   "execution_count": 32,
   "metadata": {},
   "outputs": [
    {
     "data": {
      "text/html": [
       "<table>\n",
       "<thead><tr><th></th><th scope=col>Index</th><th scope=col>W_C1C2</th><th scope=col>W_C1C3</th><th scope=col>W_C2C3</th><th scope=col>Predicted Label</th></tr></thead>\n",
       "<tbody>\n",
       "\t<tr><th scope=row>26</th><td>26       </td><td>C1       </td><td>C3       </td><td>C2       </td><td>Confusion</td></tr>\n",
       "\t<tr><th scope=row>29</th><td>29       </td><td>C1       </td><td>C3       </td><td>C2       </td><td>Confusion</td></tr>\n",
       "\t<tr><th scope=row>34</th><td>34       </td><td>C1       </td><td>C3       </td><td>C2       </td><td>Confusion</td></tr>\n",
       "\t<tr><th scope=row>36</th><td>36       </td><td>C1       </td><td>C3       </td><td>C2       </td><td>Confusion</td></tr>\n",
       "\t<tr><th scope=row>40</th><td>40       </td><td>C1       </td><td>C3       </td><td>C2       </td><td>Confusion</td></tr>\n",
       "\t<tr><th scope=row>41</th><td>41       </td><td>C1       </td><td>C3       </td><td>C2       </td><td>Confusion</td></tr>\n",
       "</tbody>\n",
       "</table>\n"
      ],
      "text/latex": [
       "\\begin{tabular}{r|lllll}\n",
       "  & Index & W\\_C1C2 & W\\_C1C3 & W\\_C2C3 & Predicted Label\\\\\n",
       "\\hline\n",
       "\t26 & 26        & C1        & C3        & C2        & Confusion\\\\\n",
       "\t29 & 29        & C1        & C3        & C2        & Confusion\\\\\n",
       "\t34 & 34        & C1        & C3        & C2        & Confusion\\\\\n",
       "\t36 & 36        & C1        & C3        & C2        & Confusion\\\\\n",
       "\t40 & 40        & C1        & C3        & C2        & Confusion\\\\\n",
       "\t41 & 41        & C1        & C3        & C2        & Confusion\\\\\n",
       "\\end{tabular}\n"
      ],
      "text/markdown": [
       "\n",
       "| <!--/--> | Index | W_C1C2 | W_C1C3 | W_C2C3 | Predicted Label | \n",
       "|---|---|---|---|---|---|\n",
       "| 26 | 26        | C1        | C3        | C2        | Confusion | \n",
       "| 29 | 29        | C1        | C3        | C2        | Confusion | \n",
       "| 34 | 34        | C1        | C3        | C2        | Confusion | \n",
       "| 36 | 36        | C1        | C3        | C2        | Confusion | \n",
       "| 40 | 40        | C1        | C3        | C2        | Confusion | \n",
       "| 41 | 41        | C1        | C3        | C2        | Confusion | \n",
       "\n",
       "\n"
      ],
      "text/plain": [
       "   Index W_C1C2 W_C1C3 W_C2C3 Predicted Label\n",
       "26 26    C1     C3     C2     Confusion      \n",
       "29 29    C1     C3     C2     Confusion      \n",
       "34 34    C1     C3     C2     Confusion      \n",
       "36 36    C1     C3     C2     Confusion      \n",
       "40 40    C1     C3     C2     Confusion      \n",
       "41 41    C1     C3     C2     Confusion      "
      ]
     },
     "metadata": {},
     "output_type": "display_data"
    }
   ],
   "source": [
    "# Check the result\n",
    "head(out[out[\"Predicted Label\"] == \"Confusion\",])"
   ]
  },
  {
   "cell_type": "code",
   "execution_count": 33,
   "metadata": {},
   "outputs": [
    {
     "data": {
      "text/html": [
       "<ol class=list-inline>\n",
       "\t<li>24</li>\n",
       "\t<li>5</li>\n",
       "</ol>\n"
      ],
      "text/latex": [
       "\\begin{enumerate*}\n",
       "\\item 24\n",
       "\\item 5\n",
       "\\end{enumerate*}\n"
      ],
      "text/markdown": [
       "1. 24\n",
       "2. 5\n",
       "\n",
       "\n"
      ],
      "text/plain": [
       "[1] 24  5"
      ]
     },
     "metadata": {},
     "output_type": "display_data"
    }
   ],
   "source": [
    "# Number of outputs whose label is \"Confusion\"\n",
    "dim(out[out[\"Predicted Label\"] == \"Confusion\",])"
   ]
  },
  {
   "cell_type": "markdown",
   "metadata": {},
   "source": [
    "c. Did you expect to see a confusion event in the one-versus-one approach ? For how many test data points you have observed\n",
    "confusion? Why? Explain in your Jupyter Notebook file."
   ]
  },
  {
   "cell_type": "markdown",
   "metadata": {},
   "source": [
    "**Answer:** \n",
    "* Yes, the confusion events while implementing a one-to-one multi-class perceptron was expected since this classifier creates a ambigious region in which the data point may belong to any class. \n",
    "* The drawback of this classifier is that it fails to classify such data points lying in the ambigious regions. The output matrix printed above shows the predictions labelled as *Confusion*. \n",
    "* There are total 24 rows whose predicted label is ambigious.\n",
    "* They are labelled as *Confusion* since they are classified to all the three classes C1, C2 and C3."
   ]
  }
 ],
 "metadata": {
  "kernelspec": {
   "display_name": "R",
   "language": "R",
   "name": "ir"
  },
  "language_info": {
   "codemirror_mode": "r",
   "file_extension": ".r",
   "mimetype": "text/x-r-source",
   "name": "R",
   "pygments_lexer": "r",
   "version": "3.5.1"
  }
 },
 "nbformat": 4,
 "nbformat_minor": 2
}
