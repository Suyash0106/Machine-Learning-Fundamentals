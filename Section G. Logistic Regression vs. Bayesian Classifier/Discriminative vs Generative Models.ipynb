{
 "cells": [
  {
   "cell_type": "markdown",
   "metadata": {},
   "source": [
    "## Section G. Logistic Regression vs. Bayesian Classifier\n",
    "\n",
    "### Question 9 [Discriminative vs Generative Models, 25 Marks]"
   ]
  },
  {
   "cell_type": "markdown",
   "metadata": {},
   "source": [
    "1. Load Task2D_train.csv and Task2D_test.csv as well as the Bayesian classifier (BC) and logistic regression (LR) codes from Activities 2 and 3 in Module 3."
   ]
  },
  {
   "cell_type": "code",
   "execution_count": 32,
   "metadata": {},
   "outputs": [],
   "source": [
    "# generates multivariate Gaussian sampels and calculate the densities\n",
    "library(mvtnorm) \n",
    "library(ggplot2)\n",
    "library(reshape2)"
   ]
  },
  {
   "cell_type": "code",
   "execution_count": 33,
   "metadata": {},
   "outputs": [],
   "source": [
    "set.seed(12345)\n",
    "\n",
    "# Load the train and the test set\n",
    "train <-   read.csv(file = 'Task2D_train.csv', header=TRUE, sep=\",\")\n",
    "test <- read.csv(file = 'Task2D_test.csv', header=TRUE, sep=\",\")\n",
    "\n",
    "# Split the data into input values and corresponding labels\n",
    "train.data  <- train[, c('x1', 'x2')]\n",
    "train.label <- train[,'y']\n",
    "\n",
    "test.data  <- test[, c('x1', 'x2')]\n",
    "test.label <- test[,'y']\n",
    "\n",
    "# class labels\n",
    "c0 = 1\n",
    "c1 = -1 "
   ]
  },
  {
   "cell_type": "markdown",
   "metadata": {},
   "source": [
    "2. Using the first 5 data points from the training set, train a BC and a LR model, and compute their test errors. In a “for loop”, increase the size of training set (5 data points at a time), retrain the models and calculate their test errors until all training data points are used. In one figure, plot the test errors for each model (with different colors) versus the size of the training set."
   ]
  },
  {
   "cell_type": "markdown",
   "metadata": {},
   "source": [
    "**Bayesian Classifier**"
   ]
  },
  {
   "cell_type": "code",
   "execution_count": 34,
   "metadata": {},
   "outputs": [],
   "source": [
    "BC <- function(train.data,train.label,test.data,test.label,train.len){\n",
    "    \n",
    "    # Get sample data of 5 indices\n",
    "    train.index <- sample(1:length(train.label), train.len, replace = FALSE)\n",
    "\n",
    "    train.data <- train[train.index, c('x1', 'x2')]\n",
    "    train.label <- train[train.index,'y']\n",
    "    \n",
    "    # Class probabilities:\n",
    "    p0.hat <- sum(train.label== c0)/nrow(train.data) # total number of samples in class 0 divided by the total nmber of training data\n",
    "    p1.hat <- 1 - p0.hat\n",
    "\n",
    "    # Class means:\n",
    "    mu0.hat <- colMeans(train.data[train.label==c0,])\n",
    "    mu1.hat <- colMeans(train.data[train.label==c1,])\n",
    "\n",
    "    # class covariance matrices:\n",
    "    sigma0.hat <- var(train.data[train.label==c0,])\n",
    "    sigma1.hat <- var(train.data[train.label==c1,])\n",
    "\n",
    "    # shared covariance matrix:\n",
    "    sigma.hat <- p0.hat * sigma0.hat + p1.hat * sigma1.hat \n",
    "    \n",
    "    # calculate posteriors:\n",
    "    posterior0 <- p0.hat*dmvnorm(x=train.data, mean=mu0.hat, sigma=sigma.hat)\n",
    "    posterior1 <- p1.hat*dmvnorm(x=train.data, mean=mu1.hat, sigma=sigma.hat)\n",
    "    \n",
    "    # calculate predictions:\n",
    "    train.predict <- ifelse(posterior0 > posterior1, c0, c1)\n",
    "    \n",
    "    test.predict <- ifelse(p0.hat*dmvnorm(x=test.data, mean=mu0.hat, sigma=sigma.hat) > p1.hat*dmvnorm(x=test.data, mean=mu1.hat, sigma=sigma.hat), c0, c1)\n",
    "    \n",
    "    # Return the error. Error = sum of incorrect predictions\n",
    "    error = (sum(test.label!=test.predict)/nrow(test.data)*100)\n",
    "    return(error)\n",
    "}"
   ]
  },
  {
   "cell_type": "markdown",
   "metadata": {},
   "source": [
    "**Logistic Regression**"
   ]
  },
  {
   "cell_type": "code",
   "execution_count": 35,
   "metadata": {},
   "outputs": [],
   "source": [
    "# auxiliary function that predicts class labels\n",
    "predict <- function(w, X, c0, c1){\n",
    "    sig <- sigmoid(w, X)\n",
    "    return(ifelse(sig>0.5, c1,c0))\n",
    "}\n",
    "    \n",
    "# auxiliary function that calculate a cost function\n",
    "cost <- function (w, X, T, c0){\n",
    "    sig <- sigmoid(w, X)\n",
    "    return(sum(ifelse(T==c0, 1-sig, sig)))\n",
    "}\n",
    "\n",
    "# Sigmoid function (=p(C1|X))\n",
    "sigmoid <- function(w, x){\n",
    "    return(1.0/(1.0+exp(-w%*%t(cbind(1,x)))))    \n",
    "}"
   ]
  },
  {
   "cell_type": "markdown",
   "metadata": {},
   "source": [
    "**Initializing parameters**"
   ]
  },
  {
   "cell_type": "code",
   "execution_count": 36,
   "metadata": {},
   "outputs": [],
   "source": [
    "LR <- function(train.data, train.label, test.data, test.label, train.len){\n",
    "  \n",
    "    #shuffle training data\n",
    "    train.index <- sample(1:length(train.label), train.len, replace = FALSE)\n",
    "    train.data <- train[train.index, c('x1', 'x2')]\n",
    "    train.label <- train[train.index,'y']\n",
    "\n",
    "    # Initializations\n",
    "    tau.max <- 1000 # maximum number of iterations\n",
    "    eta <- 0.01 # learning rate\n",
    "    epsilon <- 0.01 # a threshold on the cost (to terminate the process)\n",
    "    tau <- 1 # iteration counter\n",
    "    terminate <- FALSE\n",
    "\n",
    "    ## Just a few name/type conversion to make the rest of the code easy to follow\n",
    "    X <- as.matrix(train.data) # rename just for conviniance\n",
    "    T <- ifelse(train.label==c0,0,1) # rename just for conviniance\n",
    "\n",
    "    W <- matrix(,nrow=tau.max, ncol=(ncol(X)+1)) # to be used to store the estimated coefficients\n",
    "    W[1,] <- runif(ncol(W)) # initial weight (any better idea?)\n",
    "\n",
    "    # project data using the sigmoid function (just for convenient)\n",
    "    Y <- sigmoid(W[1,],X)\n",
    "\n",
    "    # to be used to trace the cost in each iteration\n",
    "    costs <- data.frame('tau'=1:tau.max) \n",
    "    costs[1, 'cost'] <- cost(W[1,],X,T, c0)\n",
    "\n",
    "    while(!terminate){\n",
    "        # check termination criteria:\n",
    "        terminate <- tau >= tau.max | cost(W[tau,],X,T, c0)<=epsilon\n",
    "\n",
    "        # shuffle data:\n",
    "        train.index <- sample(1:train.len, train.len, replace = FALSE)\n",
    "        X <- X[train.index,]\n",
    "        T <- T[train.index]\n",
    "\n",
    "        # for each datapoint:\n",
    "        for (i in 1:train.len){\n",
    "            # check termination criteria:\n",
    "            if (tau >= tau.max | cost(W[tau,],X,T, c0) <=epsilon) {terminate<-TRUE;break}\n",
    "\n",
    "            Y <- sigmoid(W[tau,],X)\n",
    "\n",
    "            # Update the weights\n",
    "            W[(tau+1),] <- W[tau,] - eta * (Y[i]-T[i]) * cbind(1, t(X[i,]))\n",
    "\n",
    "            # record the cost:\n",
    "            costs[(tau+1), 'cost'] <- cost(W[tau,],X,T, c0)\n",
    "\n",
    "            # update the counter:\n",
    "            tau <- tau + 1\n",
    "\n",
    "            # decrease learning rate:\n",
    "            eta = eta * 0.999\n",
    "        }\n",
    "    }\n",
    "    \n",
    "    # Done!\n",
    "    costs <- costs[1:tau, ] # remove the NaN tail of the vector (in case of early stopping)\n",
    "\n",
    "    # the  final result is:\n",
    "    w <- W[tau,]\n",
    "    \n",
    "    # Vector of final weights\n",
    "    w_vec = c(w)\n",
    "    \n",
    "    # vector to store predicted labels\n",
    "    y_predicted <- c()\n",
    "    \n",
    "    for (each in 1:nrow(test.data)){\n",
    "        \n",
    "        # Function to predict the label\n",
    "        res = 1/(1 + exp(1*( w_vec[1] + (w_vec[2]*test.data[each,1]) + (w_vec[3]*test.data[each,2]))))\n",
    "        \n",
    "        # If result> 0.5 class = +1 else class=-1        \n",
    "        if (res>0.5){\n",
    "          y_predicted[each] = +1\n",
    "        }\n",
    "        else{\n",
    "          y_predicted[each] = -1 \n",
    "        }\n",
    "    }\n",
    "    \n",
    "    # Calculate the error for every false prediction\n",
    "    error = 0\n",
    "    for (val in 1:length(y_predicted)){\n",
    "        if (y_predicted[val] != test.label[val]){\n",
    "          error = error + 1\n",
    "        }\n",
    "    }\n",
    "    \n",
    "    # Return the error\n",
    "    return((error/nrow(test.data))*100)\n",
    "    \n",
    "}"
   ]
  },
  {
   "cell_type": "code",
   "execution_count": 37,
   "metadata": {},
   "outputs": [
    {
     "data": {
      "text/html": [
       "<table>\n",
       "<thead><tr><th scope=col>Step</th><th scope=col>Bayesian Error</th><th scope=col>Logistic Error</th></tr></thead>\n",
       "<tbody>\n",
       "\t<tr><td> 5  </td><td>68.4</td><td>1.4 </td></tr>\n",
       "\t<tr><td>10  </td><td> 2.0</td><td>1.2 </td></tr>\n",
       "\t<tr><td>15  </td><td> 1.8</td><td>3.8 </td></tr>\n",
       "\t<tr><td>20  </td><td> 2.4</td><td>2.6 </td></tr>\n",
       "\t<tr><td>25  </td><td> 1.4</td><td>1.2 </td></tr>\n",
       "\t<tr><td>30  </td><td> 1.8</td><td>1.4 </td></tr>\n",
       "</tbody>\n",
       "</table>\n"
      ],
      "text/latex": [
       "\\begin{tabular}{r|lll}\n",
       " Step & Bayesian Error & Logistic Error\\\\\n",
       "\\hline\n",
       "\t  5   & 68.4 & 1.4 \\\\\n",
       "\t 10   &  2.0 & 1.2 \\\\\n",
       "\t 15   &  1.8 & 3.8 \\\\\n",
       "\t 20   &  2.4 & 2.6 \\\\\n",
       "\t 25   &  1.4 & 1.2 \\\\\n",
       "\t 30   &  1.8 & 1.4 \\\\\n",
       "\\end{tabular}\n"
      ],
      "text/markdown": [
       "\n",
       "Step | Bayesian Error | Logistic Error | \n",
       "|---|---|---|---|---|---|\n",
       "|  5   | 68.4 | 1.4  | \n",
       "| 10   |  2.0 | 1.2  | \n",
       "| 15   |  1.8 | 3.8  | \n",
       "| 20   |  2.4 | 2.6  | \n",
       "| 25   |  1.4 | 1.2  | \n",
       "| 30   |  1.8 | 1.4  | \n",
       "\n",
       "\n"
      ],
      "text/plain": [
       "  Step Bayesian Error Logistic Error\n",
       "1  5   68.4           1.4           \n",
       "2 10    2.0           1.2           \n",
       "3 15    1.8           3.8           \n",
       "4 20    2.4           2.6           \n",
       "5 25    1.4           1.2           \n",
       "6 30    1.8           1.4           "
      ]
     },
     "metadata": {},
     "output_type": "display_data"
    }
   ],
   "source": [
    "# Vector to store Bayesian errors\n",
    "BC_error = c()\n",
    "\n",
    "# Vector to store Logistic regression errors\n",
    "LR_error = c()\n",
    "\n",
    "# Steps for every 5 dataframe\n",
    "step = seq(5,500,5)\n",
    "\n",
    "for(i in step){\n",
    "    \n",
    "    # Calculate the Bayesian error for every 5 data points\n",
    "    bayesian = BC(train.data, train.label, test.data, test.label,train.len = i)\n",
    "    \n",
    "    # Calculate the Logistic error for every 5 data points\n",
    "    logistic = LR(train.data, train.label, test.data, test.label,train.len = i)\n",
    "    BC_error = c(BC_error, bayesian)\n",
    "    LR_error = c(LR_error, logistic)\n",
    "}\n",
    "\n",
    "# Error matrix to compare the Bayesian Error and Logistic Error\n",
    "error_matrix <- data.frame('Step'=step)\n",
    "error_matrix[\"Bayesian Error\"] = BC_error\n",
    "error_matrix[\"Logistic Error\"] = LR_error\n",
    "\n",
    "head(error_matrix)"
   ]
  },
  {
   "cell_type": "code",
   "execution_count": 38,
   "metadata": {},
   "outputs": [
    {
     "data": {},
     "metadata": {},
     "output_type": "display_data"
    },
    {
     "data": {
      "image/png": "[encoded data removed]",
      "text/plain": [
       "plot without title"
      ]
     },
     "metadata": {},
     "output_type": "display_data"
    }
   ],
   "source": [
    "# reshape for visualization\n",
    "error_matrix.m <- melt(error_matrix, id='Step')\n",
    "names(error_matrix.m) <- c('Step', 'Type', 'Error')\n",
    "\n",
    "# plot Bayesian error vs Logistic Regression error graph\n",
    "ggplot(data=error_matrix.m, aes(x=Step, y=Error, color=Type)) + geom_line() +\n",
    "       scale_color_discrete(guide = guide_legend(title = NULL)) +\n",
    "       ggtitle(\"Bayesian error vs Logistic Regression error\") + theme_grey()"
   ]
  },
  {
   "cell_type": "markdown",
   "metadata": {},
   "source": [
    "3. Explain your observations in your Jupyter Notebook file.:"
   ]
  },
  {
   "cell_type": "markdown",
   "metadata": {},
   "source": [
    "a. What does happen for each classifier when the number of training data points is increased?\n",
    "\n",
    "**Answer**\n",
    "* From the graph, it is observed that as the number of data points increases, the error rate of both the classifiers decreases. "
   ]
  },
  {
   "cell_type": "markdown",
   "metadata": {},
   "source": [
    "b. Which classifier is best suited when the training set is small, and which is best suited when the training set is big?\n",
    "\n",
    "**Answer**\n",
    "* Performance of both the models improve with the increase in the number of datasets. However, when the size of the training set is small, Logistic Regression may result in over-fitting. Hence Bayesian Classifier might be a better classifier when the training set is small."
   ]
  },
  {
   "cell_type": "markdown",
   "metadata": {},
   "source": [
    "c. Justify your observations in previous questions (III.a & III.b) by providing some speculations and possible reasons.\n",
    "\n",
    "**Answer**\n",
    "* The graph of Bayesian error vs Logistic Regression error shows that the Bayesian error is high initially. However, it converges very quickly as observed from the graph. \n",
    "* Logistic Regression requires higher computational resources and it results in initial overfitting which is observed from the graph. However, when the training dataset size increases, performance of Logistic regression is superior to the Bayesian classifier."
   ]
  }
 ],
 "metadata": {
  "kernelspec": {
   "display_name": "R",
   "language": "R",
   "name": "ir"
  },
  "language_info": {
   "codemirror_mode": "r",
   "file_extension": ".r",
   "mimetype": "text/x-r-source",
   "name": "R",
   "pygments_lexer": "r",
   "version": "3.5.1"
  }
 },
 "nbformat": 4,
 "nbformat_minor": 2
}
